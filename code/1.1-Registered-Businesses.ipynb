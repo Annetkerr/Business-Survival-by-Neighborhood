{
 "cells": [
  {
   "cell_type": "markdown",
   "metadata": {
    "toc": true
   },
   "source": [
    "<h1>Table of Contents<span class=\"tocSkip\"></span></h1>\n",
    "<div class=\"toc\"><ul class=\"toc-item\"><li><span><a href=\"#Imports\" data-toc-modified-id=\"Imports-1\"><span class=\"toc-item-num\">1&nbsp;&nbsp;</span>Imports</a></span></li><li><span><a href=\"#Get-Data\" data-toc-modified-id=\"Get-Data-2\"><span class=\"toc-item-num\">2&nbsp;&nbsp;</span>Get Data</a></span></li><li><span><a href=\"#Profile-the-Dataset\" data-toc-modified-id=\"Profile-the-Dataset-3\"><span class=\"toc-item-num\">3&nbsp;&nbsp;</span>Profile the Dataset</a></span></li><li><span><a href=\"#Clean-the-Data\" data-toc-modified-id=\"Clean-the-Data-4\"><span class=\"toc-item-num\">4&nbsp;&nbsp;</span>Clean the Data</a></span><ul class=\"toc-item\"><li><ul class=\"toc-item\"><li><span><a href=\"#-Subset-on-City-of-San-Francisco-Only\" data-toc-modified-id=\"-Subset-on-City-of-San-Francisco-Only-4.0.1\"><span class=\"toc-item-num\">4.0.1&nbsp;&nbsp;</span> Subset on City of San Francisco Only</a></span></li><li><span><a href=\"#Drop-Unneeded-Columns\" data-toc-modified-id=\"Drop-Unneeded-Columns-4.0.2\"><span class=\"toc-item-num\">4.0.2&nbsp;&nbsp;</span>Drop Unneeded Columns</a></span></li><li><span><a href=\"#Modify-Date-Fields\" data-toc-modified-id=\"Modify-Date-Fields-4.0.3\"><span class=\"toc-item-num\">4.0.3&nbsp;&nbsp;</span>Modify Date Fields</a></span></li><li><span><a href=\"#Save\" data-toc-modified-id=\"Save-4.0.4\"><span class=\"toc-item-num\">4.0.4&nbsp;&nbsp;</span>Save</a></span></li></ul></li></ul></li></ul></div>"
   ]
  },
  {
   "cell_type": "markdown",
   "metadata": {},
   "source": [
    "<a id=\"section__top\"></a>"
   ]
  },
  {
   "cell_type": "markdown",
   "metadata": {},
   "source": [
    "<h2>Imports"
   ]
  },
  {
   "cell_type": "code",
   "execution_count": 2,
   "metadata": {},
   "outputs": [
    {
     "name": "stdout",
     "output_type": "stream",
     "text": [
      "/Users/anne/dsi2/Survival Analysis/code/lib\n"
     ]
    }
   ],
   "source": [
    "import pandas as pd\n",
    "import numpy as np\n",
    "import pandas_profiling\n",
    "\n",
    "import os\n",
    "import sys\n",
    "import re\n",
    "\n",
    "module_path = os.path.abspath(os.path.join('./lib/'))\n",
    "\n",
    "if module_path not in sys.path:   \n",
    "    sys.path.append(module_path)\n",
    "\n",
    "from utilities import *\n",
    "from sodapy_dataset_reader import *\n",
    "\n",
    "\n",
    "import shapefile as shp\n",
    "import matplotlib.pyplot as plt\n",
    "import seaborn as sns\n",
    "\n",
    "\n",
    "%matplotlib inline"
   ]
  },
  {
   "cell_type": "markdown",
   "metadata": {},
   "source": [
    "The sodapy_dataset_reader import contains a classes that use the\n",
    "__[sodapy library ](https://pypi.org/project/sodapy/)__\n",
    "to interface with the __[Socrata API ](https://dev.socrata.com)__\n",
    "<br>\n",
    "Many open data platforms are implemented using the Socrata (or SODA) API, including\n",
    "__[SFData.gov](https://data.sfgov.org/)__, which is used for this project."
   ]
  },
  {
   "cell_type": "markdown",
   "metadata": {},
   "source": [
    "<h2>Get Data"
   ]
  },
  {
   "cell_type": "code",
   "execution_count": 3,
   "metadata": {},
   "outputs": [
    {
     "name": "stdout",
     "output_type": "stream",
     "text": [
      "Dataset contains 238523 rows\n"
     ]
    },
    {
     "data": {
      "text/plain": [
       "(238523, 36)"
      ]
     },
     "execution_count": 3,
     "metadata": {},
     "output_type": "execute_result"
    }
   ],
   "source": [
    "#data source\n",
    "source_domain = 'data.sfgov.org'\n",
    "#dataset registered_businesses_dataset\n",
    "dataset_nickname = 'reg_bus'\n",
    "dataset_id = 'g8m3-pdis'\n",
    "\n",
    "#Instantiate Reader\n",
    "spr = SodapyDatasetReader(source_domain, dataset_id)\n",
    "\n",
    "#Get Meta Data\n",
    "md = spr.get_metadata()\n",
    "\n",
    "#get and print rowcount\n",
    "rowcount = int(spr.get_row_count()[0]['count'])\n",
    "print(f'Dataset contains {rowcount} rows')\n",
    "\n",
    "#set limit to rowcount\n",
    "df = spr.get_df(limit=rowcount)\n",
    "df.shape"
   ]
  },
  {
   "cell_type": "markdown",
   "metadata": {},
   "source": [
    "Uncomment the following cell to display markdown description of the dataset.  It is quite long, so not rendered, but here is a sample of the output: \n",
    "\n",
    "```\n",
    "\n",
    "{'id': 'g8m3-pdis',\n",
    " 'name': 'Registered Business Locations - San Francisco',\n",
    " 'attribution': 'City and County of San Francisco',\n",
    " 'attributionLink': 'http://www.sfgov.org',\n",
    " 'averageRating': 0,\n",
    " 'category': 'Economy and Community',\n",
    " 'createdAt': 1389898067,\n",
    " 'description': 'This dataset includes the locations of businesses that pay taxes to the City and County of San Francisco. Each registered business may have multiple locations and each location is a single row. The Treasurer & Tax Collector’s Office collects this data through business registration applications, account update/closure forms, and taxpayer filings. The data is collected to help enforce the Business and Tax Regulations Code including, but not limited to: Article 6, Article 12, Article 12-A, and Article 12-A-1. http://sftreasurer.org/registration',\n",
    " 'displayType': 'table',\n",
    " 'downloadCount': 30187,\n",
    " 'hideFromCatalog': False,\n",
    " \n",
    " \n",
    " ```"
   ]
  },
  {
   "cell_type": "code",
   "execution_count": 10,
   "metadata": {},
   "outputs": [],
   "source": [
    "#md"
   ]
  },
  {
   "cell_type": "markdown",
   "metadata": {},
   "source": [
    "<h2>Profile the Dataset"
   ]
  },
  {
   "cell_type": "markdown",
   "metadata": {},
   "source": [
    "The Pandas profiler is a utility function that expands on the initial data exploration \n",
    "steps one does when one first loads a new dataset. Code and documentation can be found here:\n",
    "__[Pandas Profiling](https://github.com/pandas-profiling/pandas-profiling)__  <br><br> This process can be resource intensive, so after having run it once and saved the output, I chose to comment it out, but leave the code available for you to uncomment if you chose."
   ]
  },
  {
   "cell_type": "code",
   "execution_count": 13,
   "metadata": {},
   "outputs": [],
   "source": [
    "#profile = pandas_profiling.ProfileReport(df, check_correlation=False)"
   ]
  },
  {
   "cell_type": "code",
   "execution_count": 14,
   "metadata": {},
   "outputs": [],
   "source": [
    "#display(profile)"
   ]
  },
  {
   "cell_type": "code",
   "execution_count": 15,
   "metadata": {},
   "outputs": [],
   "source": [
    "#output to file...\n",
    "#fn = f'../tmp/profile-{dataset_nickname}-{dataset_id}.html'\n",
    "#profile.to_file(fn)"
   ]
  },
  {
   "cell_type": "markdown",
   "metadata": {},
   "source": [
    "<h2>Clean the Data"
   ]
  },
  {
   "cell_type": "markdown",
   "metadata": {},
   "source": [
    "[back to top](#section__top)"
   ]
  },
  {
   "cell_type": "code",
   "execution_count": 16,
   "metadata": {},
   "outputs": [
    {
     "data": {
      "text/html": [
       "<div>\n",
       "<style scoped>\n",
       "    .dataframe tbody tr th:only-of-type {\n",
       "        vertical-align: middle;\n",
       "    }\n",
       "\n",
       "    .dataframe tbody tr th {\n",
       "        vertical-align: top;\n",
       "    }\n",
       "\n",
       "    .dataframe thead th {\n",
       "        text-align: right;\n",
       "    }\n",
       "</style>\n",
       "<table border=\"1\" class=\"dataframe\">\n",
       "  <thead>\n",
       "    <tr style=\"text-align: right;\">\n",
       "      <th></th>\n",
       "      <th>:@computed_region_26cr_cadq</th>\n",
       "      <th>:@computed_region_6qbp_sg9q</th>\n",
       "      <th>:@computed_region_ajp5_b2md</th>\n",
       "      <th>:@computed_region_bh8s_q3mv</th>\n",
       "      <th>:@computed_region_fyvs_ahh9</th>\n",
       "      <th>:@computed_region_jx4q_fizf</th>\n",
       "      <th>:@computed_region_p5aj_wyqh</th>\n",
       "      <th>:@computed_region_qgnn_b9vv</th>\n",
       "      <th>:@computed_region_rxqg_mtj9</th>\n",
       "      <th>:@computed_region_yftq_j783</th>\n",
       "      <th>...</th>\n",
       "      <th>mailing_address_1</th>\n",
       "      <th>naic_code</th>\n",
       "      <th>naic_code_description</th>\n",
       "      <th>neighborhoods_analysis_boundaries</th>\n",
       "      <th>ownership_name</th>\n",
       "      <th>parking_tax</th>\n",
       "      <th>state</th>\n",
       "      <th>supervisor_district</th>\n",
       "      <th>transient_occupancy_tax</th>\n",
       "      <th>ttxid</th>\n",
       "    </tr>\n",
       "  </thead>\n",
       "  <tbody>\n",
       "    <tr>\n",
       "      <th>0</th>\n",
       "      <td>NaN</td>\n",
       "      <td>NaN</td>\n",
       "      <td>NaN</td>\n",
       "      <td>26991</td>\n",
       "      <td>NaN</td>\n",
       "      <td>NaN</td>\n",
       "      <td>NaN</td>\n",
       "      <td>NaN</td>\n",
       "      <td>NaN</td>\n",
       "      <td>NaN</td>\n",
       "      <td>...</td>\n",
       "      <td>343 State St</td>\n",
       "      <td>3100-3399</td>\n",
       "      <td>Manufacturing</td>\n",
       "      <td>NaN</td>\n",
       "      <td>Eastman Kodak Co</td>\n",
       "      <td>False</td>\n",
       "      <td>NY</td>\n",
       "      <td>NaN</td>\n",
       "      <td>False</td>\n",
       "      <td>0000024-02-999</td>\n",
       "    </tr>\n",
       "    <tr>\n",
       "      <th>1</th>\n",
       "      <td>6</td>\n",
       "      <td>15</td>\n",
       "      <td>13</td>\n",
       "      <td>57</td>\n",
       "      <td>17</td>\n",
       "      <td>6</td>\n",
       "      <td>9</td>\n",
       "      <td>4</td>\n",
       "      <td>1</td>\n",
       "      <td>13</td>\n",
       "      <td>...</td>\n",
       "      <td>2799 California St</td>\n",
       "      <td>5300-5399</td>\n",
       "      <td>Real Estate and Rental and Leasing Services</td>\n",
       "      <td>Marina</td>\n",
       "      <td>Ferrando Louise</td>\n",
       "      <td>False</td>\n",
       "      <td>CA</td>\n",
       "      <td>2</td>\n",
       "      <td>False</td>\n",
       "      <td>0000028-02-001</td>\n",
       "    </tr>\n",
       "    <tr>\n",
       "      <th>2</th>\n",
       "      <td>8</td>\n",
       "      <td>45</td>\n",
       "      <td>41</td>\n",
       "      <td>29491</td>\n",
       "      <td>40</td>\n",
       "      <td>5</td>\n",
       "      <td>8</td>\n",
       "      <td>10</td>\n",
       "      <td>4</td>\n",
       "      <td>1</td>\n",
       "      <td>...</td>\n",
       "      <td>8 Mendosa Ave</td>\n",
       "      <td>5300-5399</td>\n",
       "      <td>Real Estate and Rental and Leasing Services</td>\n",
       "      <td>West of Twin Peaks</td>\n",
       "      <td>Ideal Novak Corp</td>\n",
       "      <td>False</td>\n",
       "      <td>CA</td>\n",
       "      <td>7</td>\n",
       "      <td>False</td>\n",
       "      <td>0000052-01-001</td>\n",
       "    </tr>\n",
       "    <tr>\n",
       "      <th>3</th>\n",
       "      <td>6</td>\n",
       "      <td>17</td>\n",
       "      <td>13</td>\n",
       "      <td>57</td>\n",
       "      <td>17</td>\n",
       "      <td>6</td>\n",
       "      <td>9</td>\n",
       "      <td>4</td>\n",
       "      <td>1</td>\n",
       "      <td>13</td>\n",
       "      <td>...</td>\n",
       "      <td>4444 Geary Blvd Ste 100</td>\n",
       "      <td>NaN</td>\n",
       "      <td>NaN</td>\n",
       "      <td>NaN</td>\n",
       "      <td>Tournahu George L</td>\n",
       "      <td>False</td>\n",
       "      <td>CA</td>\n",
       "      <td>NaN</td>\n",
       "      <td>False</td>\n",
       "      <td>0000071-01-001</td>\n",
       "    </tr>\n",
       "    <tr>\n",
       "      <th>4</th>\n",
       "      <td>6</td>\n",
       "      <td>17</td>\n",
       "      <td>13</td>\n",
       "      <td>57</td>\n",
       "      <td>17</td>\n",
       "      <td>6</td>\n",
       "      <td>9</td>\n",
       "      <td>4</td>\n",
       "      <td>1</td>\n",
       "      <td>13</td>\n",
       "      <td>...</td>\n",
       "      <td>4444 Geary Blvd Ste 100</td>\n",
       "      <td>NaN</td>\n",
       "      <td>NaN</td>\n",
       "      <td>Marina</td>\n",
       "      <td>Tournahu George L</td>\n",
       "      <td>False</td>\n",
       "      <td>CA</td>\n",
       "      <td>2</td>\n",
       "      <td>False</td>\n",
       "      <td>0000071-02-001</td>\n",
       "    </tr>\n",
       "  </tbody>\n",
       "</table>\n",
       "<p>5 rows × 36 columns</p>\n",
       "</div>"
      ],
      "text/plain": [
       "  :@computed_region_26cr_cadq :@computed_region_6qbp_sg9q  \\\n",
       "0                         NaN                         NaN   \n",
       "1                           6                          15   \n",
       "2                           8                          45   \n",
       "3                           6                          17   \n",
       "4                           6                          17   \n",
       "\n",
       "  :@computed_region_ajp5_b2md :@computed_region_bh8s_q3mv  \\\n",
       "0                         NaN                       26991   \n",
       "1                          13                          57   \n",
       "2                          41                       29491   \n",
       "3                          13                          57   \n",
       "4                          13                          57   \n",
       "\n",
       "  :@computed_region_fyvs_ahh9 :@computed_region_jx4q_fizf  \\\n",
       "0                         NaN                         NaN   \n",
       "1                          17                           6   \n",
       "2                          40                           5   \n",
       "3                          17                           6   \n",
       "4                          17                           6   \n",
       "\n",
       "  :@computed_region_p5aj_wyqh :@computed_region_qgnn_b9vv  \\\n",
       "0                         NaN                         NaN   \n",
       "1                           9                           4   \n",
       "2                           8                          10   \n",
       "3                           9                           4   \n",
       "4                           9                           4   \n",
       "\n",
       "  :@computed_region_rxqg_mtj9 :@computed_region_yftq_j783  ...  \\\n",
       "0                         NaN                         NaN  ...   \n",
       "1                           1                          13  ...   \n",
       "2                           4                           1  ...   \n",
       "3                           1                          13  ...   \n",
       "4                           1                          13  ...   \n",
       "\n",
       "         mailing_address_1  naic_code  \\\n",
       "0             343 State St  3100-3399   \n",
       "1       2799 California St  5300-5399   \n",
       "2            8 Mendosa Ave  5300-5399   \n",
       "3  4444 Geary Blvd Ste 100        NaN   \n",
       "4  4444 Geary Blvd Ste 100        NaN   \n",
       "\n",
       "                         naic_code_description  \\\n",
       "0                                Manufacturing   \n",
       "1  Real Estate and Rental and Leasing Services   \n",
       "2  Real Estate and Rental and Leasing Services   \n",
       "3                                          NaN   \n",
       "4                                          NaN   \n",
       "\n",
       "  neighborhoods_analysis_boundaries     ownership_name parking_tax state  \\\n",
       "0                               NaN   Eastman Kodak Co       False    NY   \n",
       "1                            Marina    Ferrando Louise       False    CA   \n",
       "2                West of Twin Peaks   Ideal Novak Corp       False    CA   \n",
       "3                               NaN  Tournahu George L       False    CA   \n",
       "4                            Marina  Tournahu George L       False    CA   \n",
       "\n",
       "  supervisor_district transient_occupancy_tax           ttxid  \n",
       "0                 NaN                   False  0000024-02-999  \n",
       "1                   2                   False  0000028-02-001  \n",
       "2                   7                   False  0000052-01-001  \n",
       "3                 NaN                   False  0000071-01-001  \n",
       "4                   2                   False  0000071-02-001  \n",
       "\n",
       "[5 rows x 36 columns]"
      ]
     },
     "execution_count": 16,
     "metadata": {},
     "output_type": "execute_result"
    }
   ],
   "source": [
    "df.head()"
   ]
  },
  {
   "cell_type": "markdown",
   "metadata": {},
   "source": [
    "<h4> Subset on City of San Francisco Only"
   ]
  },
  {
   "cell_type": "markdown",
   "metadata": {},
   "source": [
    "Look city column. Notice that there are some business registrations for locations outside of San Francisco, and there are some entires where San Francisco was misspelled."
   ]
  },
  {
   "cell_type": "code",
   "execution_count": 17,
   "metadata": {},
   "outputs": [
    {
     "data": {
      "text/plain": [
       "San Francisco    178819\n",
       "San+francisco     16921\n",
       "Oakland            3008\n",
       "Daly+city          1855\n",
       "San+jose           1337\n",
       "Name: city, dtype: int64"
      ]
     },
     "execution_count": 17,
     "metadata": {},
     "output_type": "execute_result"
    }
   ],
   "source": [
    "df.city.value_counts().head()"
   ]
  },
  {
   "cell_type": "code",
   "execution_count": 18,
   "metadata": {},
   "outputs": [],
   "source": [
    "bad_cities = ['San francisco', 'San Fransicsco', 'San Rancisco', 'San fracnscio', 'San Frascisco']"
   ]
  },
  {
   "cell_type": "code",
   "execution_count": 19,
   "metadata": {},
   "outputs": [],
   "source": [
    "df['city'] = df['city'].str.replace('+',' ')\n",
    "df['city'] = df['city'].map(lambda x: 'San Francisco' if x in bad_cities else x)"
   ]
  },
  {
   "cell_type": "code",
   "execution_count": 20,
   "metadata": {},
   "outputs": [
    {
     "data": {
      "text/plain": [
       "San Francisco    195744\n",
       "Oakland            3008\n",
       "Daly city          1855\n",
       "San jose           1337\n",
       "Hayward             929\n",
       "Name: city, dtype: int64"
      ]
     },
     "execution_count": 20,
     "metadata": {},
     "output_type": "execute_result"
    }
   ],
   "source": [
    "df['city'].value_counts().head()"
   ]
  },
  {
   "cell_type": "code",
   "execution_count": 21,
   "metadata": {},
   "outputs": [],
   "source": [
    "sfmask = df['city'] == 'San Francisco'"
   ]
  },
  {
   "cell_type": "code",
   "execution_count": 22,
   "metadata": {},
   "outputs": [],
   "source": [
    "dfsf = df[sfmask]"
   ]
  },
  {
   "cell_type": "code",
   "execution_count": 23,
   "metadata": {},
   "outputs": [
    {
     "data": {
      "text/plain": [
       "San Francisco    195744\n",
       "Name: city, dtype: int64"
      ]
     },
     "execution_count": 23,
     "metadata": {},
     "output_type": "execute_result"
    }
   ],
   "source": [
    "dfsf.city.value_counts()"
   ]
  },
  {
   "cell_type": "code",
   "execution_count": 24,
   "metadata": {},
   "outputs": [
    {
     "data": {
      "text/plain": [
       "(195744, 36)"
      ]
     },
     "execution_count": 24,
     "metadata": {},
     "output_type": "execute_result"
    }
   ],
   "source": [
    "dfsf.shape"
   ]
  },
  {
   "cell_type": "markdown",
   "metadata": {},
   "source": [
    "<h4>Drop Unneeded Columns"
   ]
  },
  {
   "cell_type": "code",
   "execution_count": 25,
   "metadata": {},
   "outputs": [
    {
     "name": "stdout",
     "output_type": "stream",
     "text": [
      "<class 'pandas.core.frame.DataFrame'>\n",
      "Int64Index: 195744 entries, 1 to 238522\n",
      "Data columns (total 36 columns):\n",
      ":@computed_region_26cr_cadq          141709 non-null object\n",
      ":@computed_region_6qbp_sg9q          141587 non-null object\n",
      ":@computed_region_ajp5_b2md          141705 non-null object\n",
      ":@computed_region_bh8s_q3mv          141926 non-null object\n",
      ":@computed_region_fyvs_ahh9          141705 non-null object\n",
      ":@computed_region_jx4q_fizf          141176 non-null object\n",
      ":@computed_region_p5aj_wyqh          141176 non-null object\n",
      ":@computed_region_qgnn_b9vv          141198 non-null object\n",
      ":@computed_region_rxqg_mtj9          141709 non-null object\n",
      ":@computed_region_yftq_j783          141212 non-null object\n",
      "business_corridor                    324 non-null object\n",
      "business_zip                         195624 non-null object\n",
      "certificate_number                   195744 non-null object\n",
      "city                                 195744 non-null object\n",
      "dba_end_date                         66511 non-null object\n",
      "dba_name                             195744 non-null object\n",
      "dba_start_date                       195744 non-null object\n",
      "full_business_address                195742 non-null object\n",
      "lic                                  14417 non-null object\n",
      "lic_code_description                 13869 non-null object\n",
      "location                             143883 non-null object\n",
      "location_end_date                    87420 non-null object\n",
      "location_start_date                  195744 non-null object\n",
      "mail_city                            131438 non-null object\n",
      "mail_state                           129196 non-null object\n",
      "mail_zipcode                         131425 non-null object\n",
      "mailing_address_1                    129233 non-null object\n",
      "naic_code                            122147 non-null object\n",
      "naic_code_description                122147 non-null object\n",
      "neighborhoods_analysis_boundaries    149840 non-null object\n",
      "ownership_name                       195744 non-null object\n",
      "parking_tax                          195744 non-null bool\n",
      "state                                195730 non-null object\n",
      "supervisor_district                  149845 non-null object\n",
      "transient_occupancy_tax              195744 non-null bool\n",
      "ttxid                                195744 non-null object\n",
      "dtypes: bool(2), object(34)\n",
      "memory usage: 52.6+ MB\n"
     ]
    }
   ],
   "source": [
    "dfsf.info()"
   ]
  },
  {
   "cell_type": "code",
   "execution_count": 26,
   "metadata": {},
   "outputs": [
    {
     "data": {
      "text/plain": [
       "(195744, 36)"
      ]
     },
     "execution_count": 26,
     "metadata": {},
     "output_type": "execute_result"
    }
   ],
   "source": [
    "dfsf.shape"
   ]
  },
  {
   "cell_type": "markdown",
   "metadata": {},
   "source": [
    "drop computed columns per this link\n",
    "https://support.socrata.com/hc/en-us/articles/360007155973-Handling-Computed-Columns-with-FME\n",
    "Datasets that have location data that intersects a Spatial Lens Boundary will have computed columns. These columns are created and curated by the Socrata platform, not the user. They are used to perform the geographic join between the geocoded row and the underlying spatial lens polygon. The column names begin with the prefix :@computed_region_."
   ]
  },
  {
   "cell_type": "code",
   "execution_count": 27,
   "metadata": {},
   "outputs": [],
   "source": [
    "dfsf = dfsf.drop([':@computed_region_26cr_cadq', ':@computed_region_6qbp_sg9q',\n",
    "       ':@computed_region_ajp5_b2md', ':@computed_region_bh8s_q3mv',\n",
    "       ':@computed_region_fyvs_ahh9', ':@computed_region_jx4q_fizf',\n",
    "       ':@computed_region_p5aj_wyqh', ':@computed_region_qgnn_b9vv',\n",
    "       ':@computed_region_rxqg_mtj9', ':@computed_region_yftq_j783'], axis = 1)"
   ]
  },
  {
   "cell_type": "code",
   "execution_count": 28,
   "metadata": {},
   "outputs": [
    {
     "data": {
      "text/plain": [
       "(195744, 26)"
      ]
     },
     "execution_count": 28,
     "metadata": {},
     "output_type": "execute_result"
    }
   ],
   "source": [
    "dfsf.shape"
   ]
  },
  {
   "cell_type": "code",
   "execution_count": 29,
   "metadata": {},
   "outputs": [
    {
     "data": {
      "text/plain": [
       "business_corridor                    195420\n",
       "business_zip                            120\n",
       "certificate_number                        0\n",
       "city                                      0\n",
       "dba_end_date                         129233\n",
       "dba_name                                  0\n",
       "dba_start_date                            0\n",
       "full_business_address                     2\n",
       "lic                                  181327\n",
       "lic_code_description                 181875\n",
       "location                              51861\n",
       "location_end_date                    108324\n",
       "location_start_date                       0\n",
       "mail_city                             64306\n",
       "mail_state                            66548\n",
       "mail_zipcode                          64319\n",
       "mailing_address_1                     66511\n",
       "naic_code                             73597\n",
       "naic_code_description                 73597\n",
       "neighborhoods_analysis_boundaries     45904\n",
       "ownership_name                            0\n",
       "parking_tax                               0\n",
       "state                                    14\n",
       "supervisor_district                   45899\n",
       "transient_occupancy_tax                   0\n",
       "ttxid                                     0\n",
       "dtype: int64"
      ]
     },
     "execution_count": 29,
     "metadata": {},
     "output_type": "execute_result"
    }
   ],
   "source": [
    "dfsf.isnull().sum()"
   ]
  },
  {
   "cell_type": "code",
   "execution_count": 30,
   "metadata": {},
   "outputs": [],
   "source": [
    "#drop business corridor - mostly missing\n",
    "dfsf = dfsf.drop(['business_corridor'],axis=1)"
   ]
  },
  {
   "cell_type": "code",
   "execution_count": 31,
   "metadata": {},
   "outputs": [
    {
     "data": {
      "text/plain": [
       "(195744, 25)"
      ]
     },
     "execution_count": 31,
     "metadata": {},
     "output_type": "execute_result"
    }
   ],
   "source": [
    "dfsf.shape"
   ]
  },
  {
   "cell_type": "code",
   "execution_count": 32,
   "metadata": {},
   "outputs": [
    {
     "data": {
      "text/plain": [
       "Index(['business_zip', 'certificate_number', 'city', 'dba_end_date',\n",
       "       'dba_name', 'dba_start_date', 'full_business_address', 'lic',\n",
       "       'lic_code_description', 'location', 'location_end_date',\n",
       "       'location_start_date', 'mail_city', 'mail_state', 'mail_zipcode',\n",
       "       'mailing_address_1', 'naic_code', 'naic_code_description',\n",
       "       'neighborhoods_analysis_boundaries', 'ownership_name', 'parking_tax',\n",
       "       'state', 'supervisor_district', 'transient_occupancy_tax', 'ttxid'],\n",
       "      dtype='object')"
      ]
     },
     "execution_count": 32,
     "metadata": {},
     "output_type": "execute_result"
    }
   ],
   "source": [
    "dfsf.columns"
   ]
  },
  {
   "cell_type": "markdown",
   "metadata": {},
   "source": [
    "<h4>Modify Date Fields"
   ]
  },
  {
   "cell_type": "markdown",
   "metadata": {},
   "source": [
    "The data contains two sets of start and end dates. \"DBA\" is the \"doing business as\" date. Many more DBA end dates are missing than location end dates. Since it is the location of the business itself we are interested here, we use loc_start and loc_end for the analysis, but keep dba in for reference. "
   ]
  },
  {
   "cell_type": "code",
   "execution_count": 33,
   "metadata": {},
   "outputs": [],
   "source": [
    "#create new columns for dba 'doing business as' and location start and stop\n",
    "#to contain just the dates\n",
    "dfsf['dba_start'] = pd.to_datetime(dfsf['dba_start_date']) \n",
    "dfsf['dba_end'] = pd.to_datetime(dfsf['dba_end_date'])\n",
    "dfsf['loc_start'] = pd.to_datetime(dfsf['location_start_date'])\n",
    "dfsf['loc_end'] = pd.to_datetime(dfsf['location_end_date'])"
   ]
  },
  {
   "cell_type": "code",
   "execution_count": 34,
   "metadata": {},
   "outputs": [
    {
     "data": {
      "text/plain": [
       "business_zip                            120\n",
       "certificate_number                        0\n",
       "city                                      0\n",
       "dba_end_date                         129233\n",
       "dba_name                                  0\n",
       "dba_start_date                            0\n",
       "full_business_address                     2\n",
       "lic                                  181327\n",
       "lic_code_description                 181875\n",
       "location                              51861\n",
       "location_end_date                    108324\n",
       "location_start_date                       0\n",
       "mail_city                             64306\n",
       "mail_state                            66548\n",
       "mail_zipcode                          64319\n",
       "mailing_address_1                     66511\n",
       "naic_code                             73597\n",
       "naic_code_description                 73597\n",
       "neighborhoods_analysis_boundaries     45904\n",
       "ownership_name                            0\n",
       "parking_tax                               0\n",
       "state                                    14\n",
       "supervisor_district                   45899\n",
       "transient_occupancy_tax                   0\n",
       "ttxid                                     0\n",
       "dba_start                                 0\n",
       "dba_end                              129233\n",
       "loc_start                                 0\n",
       "loc_end                              108324\n",
       "dtype: int64"
      ]
     },
     "execution_count": 34,
     "metadata": {},
     "output_type": "execute_result"
    }
   ],
   "source": [
    "dfsf.isnull().sum()"
   ]
  },
  {
   "cell_type": "code",
   "execution_count": 35,
   "metadata": {},
   "outputs": [],
   "source": [
    "#then drop the original date/time columns\n",
    "dfsf = dfsf.drop(['dba_start_date', 'dba_end_date', 'location_start_date', 'location_end_date'] , axis=1)"
   ]
  },
  {
   "cell_type": "markdown",
   "metadata": {},
   "source": [
    "<h4>Save"
   ]
  },
  {
   "cell_type": "markdown",
   "metadata": {},
   "source": [
    "Save the data in the tmp directory. It will be combined with other data to create the final dataset for analysis."
   ]
  },
  {
   "cell_type": "code",
   "execution_count": 36,
   "metadata": {},
   "outputs": [],
   "source": [
    "ts = get_timestamp()\n",
    "dfsf.to_csv(f'../tmp/reg_bus_sfonly_raw{ts}.csv', index=False)\n"
   ]
  }
 ],
 "metadata": {
  "kernelspec": {
   "display_name": "Python [conda env:dsi2] *",
   "language": "python",
   "name": "conda-env-dsi2-py"
  },
  "language_info": {
   "codemirror_mode": {
    "name": "ipython",
    "version": 3
   },
   "file_extension": ".py",
   "mimetype": "text/x-python",
   "name": "python",
   "nbconvert_exporter": "python",
   "pygments_lexer": "ipython3",
   "version": "3.6.5"
  },
  "toc": {
   "base_numbering": 1,
   "nav_menu": {},
   "number_sections": true,
   "sideBar": true,
   "skip_h1_title": true,
   "title_cell": "Table of Contents",
   "title_sidebar": "Contents",
   "toc_cell": true,
   "toc_position": {
    "height": "calc(100% - 180px)",
    "left": "10px",
    "top": "150px",
    "width": "165px"
   },
   "toc_section_display": true,
   "toc_window_display": true
  }
 },
 "nbformat": 4,
 "nbformat_minor": 2
}
