{
 "cells": [
  {
   "cell_type": "markdown",
   "metadata": {
    "toc": true
   },
   "source": [
    "<h1>Table of Contents<span class=\"tocSkip\"></span></h1>\n",
    "<div class=\"toc\"><ul class=\"toc-item\"><li><span><a href=\"#Overview\" data-toc-modified-id=\"Overview-1\"><span class=\"toc-item-num\">1&nbsp;&nbsp;</span>Overview</a></span></li></ul></div>"
   ]
  },
  {
   "cell_type": "markdown",
   "metadata": {},
   "source": [
    "<h3>Overview"
   ]
  },
  {
   "cell_type": "markdown",
   "metadata": {},
   "source": [
    "This is part of a series of notebooks used to impute missing location data and create ***lat*** (latitude) and ***lon*** (longitude) columns. The ***location*** column of the original dataset is a dictionary with geocordinates and business address. Many of these location entries are null. Where not null, the coordinates are pulled from the location column. Where no coordinates are present, the a geocoding api is used to convert the address fields are to lat and lon. \n",
    "\n",
    "Note book 1.1b **Extract Lat Lon From Points** performs the conversion by coordinates."
   ]
  },
  {
   "cell_type": "code",
   "execution_count": 4,
   "metadata": {},
   "outputs": [],
   "source": [
    "import pandas as pd\n",
    "import numpy as np\n",
    "import pandas_profiling\n",
    "import json\n",
    "import ast\n",
    "\n",
    "import os\n",
    "import sys\n",
    "import re\n",
    "\n",
    "module_path = os.path.abspath(os.path.join('./lib/'))\n",
    "\n",
    "if module_path not in sys.path:   \n",
    "    sys.path.append(module_path)\n",
    "\n",
    "\n",
    "import datetime\n",
    "from utilities import *\n",
    "from sodapy_dataset_reader import *\n",
    "\n",
    "\n",
    "import shapefile as shp\n",
    "import matplotlib.pyplot as plt\n",
    "import seaborn as sns\n",
    "\n",
    "import os\n",
    "import sys\n",
    "import re\n",
    "import time\n",
    "\n",
    "import geopandas as gpd\n",
    "from geopandas.tools import geocode\n",
    "from shapely.geometry import Point\n",
    "\n",
    "%matplotlib inline"
   ]
  },
  {
   "cell_type": "code",
   "execution_count": 5,
   "metadata": {},
   "outputs": [],
   "source": [
    "df_by_loc = pd.read_csv('../tmp/by_location_201920195621191425.csv', low_memory=False)"
   ]
  },
  {
   "cell_type": "code",
   "execution_count": 6,
   "metadata": {},
   "outputs": [
    {
     "data": {
      "text/plain": [
       "(143883, 27)"
      ]
     },
     "execution_count": 6,
     "metadata": {},
     "output_type": "execute_result"
    }
   ],
   "source": [
    "df_by_loc.shape"
   ]
  },
  {
   "cell_type": "code",
   "execution_count": 7,
   "metadata": {},
   "outputs": [
    {
     "data": {
      "text/plain": [
       "Index(['business_zip', 'certificate_number', 'city', 'dba_name',\n",
       "       'full_business_address', 'lic', 'lic_code_description', 'location',\n",
       "       'mail_city', 'mail_state', 'mail_zipcode', 'mailing_address_1',\n",
       "       'naic_code', 'naic_code_description',\n",
       "       'neighborhoods_analysis_boundaries', 'ownership_name', 'parking_tax',\n",
       "       'state', 'supervisor_district', 'transient_occupancy_tax', 'ttxid',\n",
       "       'dba_start', 'dba_end', 'loc_start', 'loc_end', 'lat', 'lon'],\n",
       "      dtype='object')"
      ]
     },
     "execution_count": 7,
     "metadata": {},
     "output_type": "execute_result"
    }
   ],
   "source": [
    " df_by_loc.columns"
   ]
  },
  {
   "cell_type": "code",
   "execution_count": 9,
   "metadata": {},
   "outputs": [
    {
     "data": {
      "text/plain": [
       "0    0\n",
       "1    0\n",
       "2    0\n",
       "3    0\n",
       "4    0\n",
       "Name: lat, dtype: int64"
      ]
     },
     "execution_count": 9,
     "metadata": {},
     "output_type": "execute_result"
    }
   ],
   "source": [
    " df_by_loc.lat.head()"
   ]
  },
  {
   "cell_type": "code",
   "execution_count": 10,
   "metadata": {},
   "outputs": [
    {
     "data": {
      "text/plain": [
       "0    0\n",
       "1    0\n",
       "2    0\n",
       "3    0\n",
       "4    0\n",
       "Name: lon, dtype: int64"
      ]
     },
     "execution_count": 10,
     "metadata": {},
     "output_type": "execute_result"
    }
   ],
   "source": [
    " df_by_loc.lon.head()"
   ]
  },
  {
   "cell_type": "code",
   "execution_count": 11,
   "metadata": {},
   "outputs": [],
   "source": [
    "df_by_loc['lat'] = 0\n",
    "df_by_loc['lon'] = 0"
   ]
  },
  {
   "cell_type": "code",
   "execution_count": 12,
   "metadata": {},
   "outputs": [
    {
     "data": {
      "text/plain": [
       "0"
      ]
     },
     "execution_count": 12,
     "metadata": {},
     "output_type": "execute_result"
    }
   ],
   "source": [
    "df_by_loc.location.isnull().sum()"
   ]
  },
  {
   "cell_type": "code",
   "execution_count": 13,
   "metadata": {},
   "outputs": [],
   "source": [
    "def convert_location(id, nm, loc):\n",
    "    try:\n",
    "        loc = ast.literal_eval(loc)\n",
    "    except:\n",
    "        print(f'an error occurred converting literal on {id}, {nm}')\n",
    "        return 0,0\n",
    "    else:  \n",
    "        try:\n",
    "            lat = float(loc['latitude'])\n",
    "            lon = float(loc['longitude'])\n",
    "        except:\n",
    "            #print(f'an error occurred extracting coordinates on {id}, {nm}')\n",
    "            return 0,0\n",
    "        else:\n",
    "            #print(f'returning lat: {lat}, lon: {lon}')\n",
    "            return lat, lon"
   ]
  },
  {
   "cell_type": "code",
   "execution_count": 14,
   "metadata": {},
   "outputs": [
    {
     "name": "stdout",
     "output_type": "stream",
     "text": [
      "Elapsed time: 37.60917401313782\n"
     ]
    }
   ],
   "source": [
    "start_execution = time.time()\n",
    "\n",
    "df_by_loc[['lat', 'lon']] = df_by_loc.apply(lambda row: convert_location( row.certificate_number, \n",
    "                                     row.dba_name,\n",
    "                                     row.location), \n",
    "                                       axis=1, result_type='expand')\n",
    "end_execution = time.time()\n",
    "print(f'Elapsed time: {end_execution - start_execution}')"
   ]
  },
  {
   "cell_type": "code",
   "execution_count": 15,
   "metadata": {},
   "outputs": [
    {
     "data": {
      "text/html": [
       "<div>\n",
       "<style scoped>\n",
       "    .dataframe tbody tr th:only-of-type {\n",
       "        vertical-align: middle;\n",
       "    }\n",
       "\n",
       "    .dataframe tbody tr th {\n",
       "        vertical-align: top;\n",
       "    }\n",
       "\n",
       "    .dataframe thead th {\n",
       "        text-align: right;\n",
       "    }\n",
       "</style>\n",
       "<table border=\"1\" class=\"dataframe\">\n",
       "  <thead>\n",
       "    <tr style=\"text-align: right;\">\n",
       "      <th></th>\n",
       "      <th>business_zip</th>\n",
       "      <th>certificate_number</th>\n",
       "      <th>city</th>\n",
       "      <th>dba_name</th>\n",
       "      <th>full_business_address</th>\n",
       "      <th>lic</th>\n",
       "      <th>lic_code_description</th>\n",
       "      <th>location</th>\n",
       "      <th>mail_city</th>\n",
       "      <th>mail_state</th>\n",
       "      <th>...</th>\n",
       "      <th>state</th>\n",
       "      <th>supervisor_district</th>\n",
       "      <th>transient_occupancy_tax</th>\n",
       "      <th>ttxid</th>\n",
       "      <th>dba_start</th>\n",
       "      <th>dba_end</th>\n",
       "      <th>loc_start</th>\n",
       "      <th>loc_end</th>\n",
       "      <th>lat</th>\n",
       "      <th>lon</th>\n",
       "    </tr>\n",
       "  </thead>\n",
       "  <tbody>\n",
       "    <tr>\n",
       "      <th>0</th>\n",
       "      <td>94123.0</td>\n",
       "      <td>28</td>\n",
       "      <td>San Francisco</td>\n",
       "      <td>3101 Laguna Apts</td>\n",
       "      <td>3101 Laguna St</td>\n",
       "      <td>NaN</td>\n",
       "      <td>NaN</td>\n",
       "      <td>{'latitude': '37.799823', 'longitude': '-122.4...</td>\n",
       "      <td>San Francisco</td>\n",
       "      <td>CA</td>\n",
       "      <td>...</td>\n",
       "      <td>CA</td>\n",
       "      <td>2.0</td>\n",
       "      <td>False</td>\n",
       "      <td>0000028-02-001</td>\n",
       "      <td>1993-09-30</td>\n",
       "      <td>NaN</td>\n",
       "      <td>1993-09-30</td>\n",
       "      <td>NaN</td>\n",
       "      <td>37.799823</td>\n",
       "      <td>-122.430996</td>\n",
       "    </tr>\n",
       "    <tr>\n",
       "      <th>1</th>\n",
       "      <td>94116.0</td>\n",
       "      <td>52</td>\n",
       "      <td>San Francisco</td>\n",
       "      <td>Ideal Novak Corp</td>\n",
       "      <td>8 Mendosa Ave</td>\n",
       "      <td>NaN</td>\n",
       "      <td>NaN</td>\n",
       "      <td>{'latitude': '37.748926', 'longitude': '-122.4...</td>\n",
       "      <td>San Francisco</td>\n",
       "      <td>CA</td>\n",
       "      <td>...</td>\n",
       "      <td>CA</td>\n",
       "      <td>7.0</td>\n",
       "      <td>False</td>\n",
       "      <td>0000052-01-001</td>\n",
       "      <td>1968-10-01</td>\n",
       "      <td>NaN</td>\n",
       "      <td>1968-10-01</td>\n",
       "      <td>NaN</td>\n",
       "      <td>37.748926</td>\n",
       "      <td>-122.465074</td>\n",
       "    </tr>\n",
       "    <tr>\n",
       "      <th>2</th>\n",
       "      <td>94123.0</td>\n",
       "      <td>71</td>\n",
       "      <td>San Francisco</td>\n",
       "      <td>Tournahu Arms</td>\n",
       "      <td>1842 Jefferson St</td>\n",
       "      <td>NaN</td>\n",
       "      <td>NaN</td>\n",
       "      <td>{'latitude': '37.804734', 'longitude': '-122.4...</td>\n",
       "      <td>San Francisco</td>\n",
       "      <td>CA</td>\n",
       "      <td>...</td>\n",
       "      <td>CA</td>\n",
       "      <td>NaN</td>\n",
       "      <td>False</td>\n",
       "      <td>0000071-01-001</td>\n",
       "      <td>1968-10-01</td>\n",
       "      <td>NaN</td>\n",
       "      <td>1968-10-01</td>\n",
       "      <td>2013-12-31</td>\n",
       "      <td>37.804734</td>\n",
       "      <td>-122.442997</td>\n",
       "    </tr>\n",
       "    <tr>\n",
       "      <th>3</th>\n",
       "      <td>94123.0</td>\n",
       "      <td>71</td>\n",
       "      <td>San Francisco</td>\n",
       "      <td>3301 Broderick Apartments</td>\n",
       "      <td>3301 Broderick St</td>\n",
       "      <td>NaN</td>\n",
       "      <td>NaN</td>\n",
       "      <td>{'latitude': '37.800876', 'longitude': '-122.4...</td>\n",
       "      <td>San Francisco</td>\n",
       "      <td>CA</td>\n",
       "      <td>...</td>\n",
       "      <td>CA</td>\n",
       "      <td>2.0</td>\n",
       "      <td>False</td>\n",
       "      <td>0000071-02-001</td>\n",
       "      <td>1968-10-01</td>\n",
       "      <td>NaN</td>\n",
       "      <td>1988-05-01</td>\n",
       "      <td>2013-12-31</td>\n",
       "      <td>37.800876</td>\n",
       "      <td>-122.444757</td>\n",
       "    </tr>\n",
       "    <tr>\n",
       "      <th>4</th>\n",
       "      <td>94123.0</td>\n",
       "      <td>71</td>\n",
       "      <td>San Francisco</td>\n",
       "      <td>3301 Broderick Apartments</td>\n",
       "      <td>3301 Broderick St</td>\n",
       "      <td>NaN</td>\n",
       "      <td>NaN</td>\n",
       "      <td>{'latitude': '37.800876', 'longitude': '-122.4...</td>\n",
       "      <td>San Francisco</td>\n",
       "      <td>CA</td>\n",
       "      <td>...</td>\n",
       "      <td>CA</td>\n",
       "      <td>2.0</td>\n",
       "      <td>False</td>\n",
       "      <td>0000071-02-003</td>\n",
       "      <td>1968-10-01</td>\n",
       "      <td>NaN</td>\n",
       "      <td>1988-05-01</td>\n",
       "      <td>2013-12-31</td>\n",
       "      <td>37.800876</td>\n",
       "      <td>-122.444757</td>\n",
       "    </tr>\n",
       "  </tbody>\n",
       "</table>\n",
       "<p>5 rows × 27 columns</p>\n",
       "</div>"
      ],
      "text/plain": [
       "   business_zip  certificate_number           city                   dba_name  \\\n",
       "0       94123.0                  28  San Francisco           3101 Laguna Apts   \n",
       "1       94116.0                  52  San Francisco           Ideal Novak Corp   \n",
       "2       94123.0                  71  San Francisco              Tournahu Arms   \n",
       "3       94123.0                  71  San Francisco  3301 Broderick Apartments   \n",
       "4       94123.0                  71  San Francisco  3301 Broderick Apartments   \n",
       "\n",
       "  full_business_address  lic lic_code_description  \\\n",
       "0        3101 Laguna St  NaN                  NaN   \n",
       "1         8 Mendosa Ave  NaN                  NaN   \n",
       "2     1842 Jefferson St  NaN                  NaN   \n",
       "3     3301 Broderick St  NaN                  NaN   \n",
       "4     3301 Broderick St  NaN                  NaN   \n",
       "\n",
       "                                            location      mail_city  \\\n",
       "0  {'latitude': '37.799823', 'longitude': '-122.4...  San Francisco   \n",
       "1  {'latitude': '37.748926', 'longitude': '-122.4...  San Francisco   \n",
       "2  {'latitude': '37.804734', 'longitude': '-122.4...  San Francisco   \n",
       "3  {'latitude': '37.800876', 'longitude': '-122.4...  San Francisco   \n",
       "4  {'latitude': '37.800876', 'longitude': '-122.4...  San Francisco   \n",
       "\n",
       "  mail_state  ... state supervisor_district transient_occupancy_tax  \\\n",
       "0         CA  ...    CA                 2.0                   False   \n",
       "1         CA  ...    CA                 7.0                   False   \n",
       "2         CA  ...    CA                 NaN                   False   \n",
       "3         CA  ...    CA                 2.0                   False   \n",
       "4         CA  ...    CA                 2.0                   False   \n",
       "\n",
       "            ttxid   dba_start dba_end   loc_start     loc_end        lat  \\\n",
       "0  0000028-02-001  1993-09-30     NaN  1993-09-30         NaN  37.799823   \n",
       "1  0000052-01-001  1968-10-01     NaN  1968-10-01         NaN  37.748926   \n",
       "2  0000071-01-001  1968-10-01     NaN  1968-10-01  2013-12-31  37.804734   \n",
       "3  0000071-02-001  1968-10-01     NaN  1988-05-01  2013-12-31  37.800876   \n",
       "4  0000071-02-003  1968-10-01     NaN  1988-05-01  2013-12-31  37.800876   \n",
       "\n",
       "          lon  \n",
       "0 -122.430996  \n",
       "1 -122.465074  \n",
       "2 -122.442997  \n",
       "3 -122.444757  \n",
       "4 -122.444757  \n",
       "\n",
       "[5 rows x 27 columns]"
      ]
     },
     "execution_count": 15,
     "metadata": {},
     "output_type": "execute_result"
    }
   ],
   "source": [
    "df_by_loc.head()"
   ]
  },
  {
   "cell_type": "code",
   "execution_count": 16,
   "metadata": {},
   "outputs": [],
   "source": [
    "ts = get_timestamp()\n",
    "df_by_loc.to_csv(f'../tmp/converted_by_loc_{ts}.csv', index=False)"
   ]
  },
  {
   "cell_type": "code",
   "execution_count": 17,
   "metadata": {},
   "outputs": [
    {
     "data": {
      "text/plain": [
       "(143883, 27)"
      ]
     },
     "execution_count": 17,
     "metadata": {},
     "output_type": "execute_result"
    }
   ],
   "source": [
    "df_by_loc.shape"
   ]
  },
  {
   "cell_type": "markdown",
   "metadata": {},
   "source": [
    " Next step, if lat, lon still = 0, pass it to the geocoder"
   ]
  },
  {
   "cell_type": "code",
   "execution_count": 18,
   "metadata": {},
   "outputs": [],
   "source": [
    "from api_keys import *"
   ]
  },
  {
   "cell_type": "code",
   "execution_count": 19,
   "metadata": {},
   "outputs": [],
   "source": [
    "def convert_address(addr):\n",
    "    time.sleep(1)\n",
    "    try:\n",
    "        geo = geocode(addr, provider='google', api_key=google_key)\n",
    "    except:\n",
    "        #print(f'an error occurred')\n",
    "        return 0,0\n",
    "    else:\n",
    "        point = geo.geometry.geometry\n",
    "        lon = float(point.x)\n",
    "        lat = float(point.y)\n",
    "        #print(f'returning {lat}, {lon}')\n",
    "        return lat, lon"
   ]
  },
  {
   "cell_type": "markdown",
   "metadata": {},
   "source": [
    "NOTE:  The following code calls the geocoding API. This was run iteratively until no more addresses could be translated. This was a manual process, and consumed a lot of resources, and for this reason I am including the code in a commented out state, to avoid have to re-run it.  \n",
    "\n",
    "```\n",
    "\n",
    "start_execution = time.time()\n",
    "\n",
    "df_by_loc[['lat', 'lon']] = df_by_loc.apply(lambda row: [row.lat, row.lon] if row.lat > 0 else\n",
    "            convert_address(f'{row.full_business_address}, San Francisco, CA'),\n",
    "                                axis=1, result_type='expand')\n",
    "\n",
    "end_execution = time.time()\n",
    "print(f'Elapsed time: {end_execution - start_execution}')\n",
    "\n",
    "df_by_loc.head()\n",
    "\n",
    "ts = get_timestamp()\n",
    "df_by_loc.to_csv(f'../tmp/converted_by_loc_then_address_final{ts}.csv', index=False)\n",
    "\n",
    "\n",
    "```"
   ]
  }
 ],
 "metadata": {
  "kernelspec": {
   "display_name": "Python [conda env:dsi2] *",
   "language": "python",
   "name": "conda-env-dsi2-py"
  },
  "language_info": {
   "codemirror_mode": {
    "name": "ipython",
    "version": 3
   },
   "file_extension": ".py",
   "mimetype": "text/x-python",
   "name": "python",
   "nbconvert_exporter": "python",
   "pygments_lexer": "ipython3",
   "version": "3.6.5"
  },
  "toc": {
   "base_numbering": 1,
   "nav_menu": {},
   "number_sections": true,
   "sideBar": true,
   "skip_h1_title": false,
   "title_cell": "Table of Contents",
   "title_sidebar": "Contents",
   "toc_cell": true,
   "toc_position": {},
   "toc_section_display": true,
   "toc_window_display": true
  }
 },
 "nbformat": 4,
 "nbformat_minor": 2
}
