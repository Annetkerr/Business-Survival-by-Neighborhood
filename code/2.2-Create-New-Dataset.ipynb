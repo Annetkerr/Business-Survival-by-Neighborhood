{
 "cells": [
  {
   "cell_type": "markdown",
   "metadata": {
    "toc": true
   },
   "source": [
    "<h1>Table of Contents<span class=\"tocSkip\"></span></h1>\n",
    "<div class=\"toc\"><ul class=\"toc-item\"><li><span><a href=\"#-Create-New-Dataset\" data-toc-modified-id=\"-Create-New-Dataset-1\"><span class=\"toc-item-num\">1&nbsp;&nbsp;</span> Create New Dataset</a></span><ul class=\"toc-item\"><li><span><a href=\"#-Create-Dictionary-to-Hold-Data-Structure\" data-toc-modified-id=\"-Create-Dictionary-to-Hold-Data-Structure-1.1\"><span class=\"toc-item-num\">1.1&nbsp;&nbsp;</span> Create Dictionary to Hold Data Structure</a></span></li><li><span><a href=\"#-Business-Registration\" data-toc-modified-id=\"-Business-Registration-1.2\"><span class=\"toc-item-num\">1.2&nbsp;&nbsp;</span> Business Registration</a></span></li><li><span><a href=\"#-Evictions\" data-toc-modified-id=\"-Evictions-1.3\"><span class=\"toc-item-num\">1.3&nbsp;&nbsp;</span> Evictions</a></span></li><li><span><a href=\"#-Meidan-Price-Per-Square-Foot\" data-toc-modified-id=\"-Meidan-Price-Per-Square-Foot-1.4\"><span class=\"toc-item-num\">1.4&nbsp;&nbsp;</span> Meidan Price Per Square Foot</a></span></li><li><span><a href=\"#-Add-Features-to-Business-Dataset\" data-toc-modified-id=\"-Add-Features-to-Business-Dataset-1.5\"><span class=\"toc-item-num\">1.5&nbsp;&nbsp;</span> Add Features to Business Dataset</a></span></li><li><span><a href=\"#Save-new-dataset-for-modeling\" data-toc-modified-id=\"Save-new-dataset-for-modeling-1.6\"><span class=\"toc-item-num\">1.6&nbsp;&nbsp;</span>Save new dataset for modeling</a></span></li><li><span><a href=\"#Export-Dictionary\" data-toc-modified-id=\"Export-Dictionary-1.7\"><span class=\"toc-item-num\">1.7&nbsp;&nbsp;</span>Export Dictionary</a></span></li></ul></li></ul></div>"
   ]
  },
  {
   "cell_type": "code",
   "execution_count": 1,
   "metadata": {},
   "outputs": [],
   "source": [
    "import pandas as pd\n",
    "import numpy as np\n",
    "import json\n",
    "import ast\n",
    "import pickle\n",
    "\n",
    "\n",
    "import os\n",
    "import sys\n",
    "import re\n",
    "\n",
    "module_path = os.path.abspath(os.path.join('./lib/'))\n",
    "\n",
    "if module_path not in sys.path:   \n",
    "    sys.path.append(module_path)\n",
    "\n",
    "from utilities import *\n",
    "\n",
    "import datetime\n",
    "\n",
    "import matplotlib.pyplot as plt\n",
    "import seaborn as sns\n",
    "\n",
    "import os\n",
    "import sys\n",
    "import re\n",
    "import time\n",
    "import datetime\n",
    "\n",
    "import geopandas as gpd\n",
    "from geopandas.tools import geocode\n",
    "from shapely.geometry import Point\n",
    "\n",
    "%matplotlib inline\n"
   ]
  },
  {
   "cell_type": "markdown",
   "metadata": {},
   "source": [
    "<h2> Create New Dataset"
   ]
  },
  {
   "cell_type": "markdown",
   "metadata": {},
   "source": [
    "Build a dataset where each row represents events that happened for a neighborhood for a time interval.\n",
    "Start with a core dictionary of the structure:\n",
    "```\n",
    "{ \n",
    "    '<time period>' : {\n",
    "        \n",
    "            <neighborhood>  :  {\n",
    "                \n",
    "                   <feature name>  :  value \n",
    "                   \n",
    "                   }\n",
    "           }\n",
    "}\n",
    "           \n",
    "e.g., \n",
    "            \n",
    "            \n",
    "{ {'2000-Q1': {'North Beach': {'bus_opened': 0, 'bus_closed': 0},  etc...\n",
    " \n",
    "\n",
    "\n",
    "```\n",
    "\n",
    "Each feature or set of features comes from a different dataset. Each dataset contained location information that needed to be cleaned and processed. Each dataset was cleaned in its own notebook.   \n",
    "\n",
    "-  Create lat,lon from point or location data\n",
    "-  Fill in missing neighborhoods based on lat,lon \n",
    "-  In some cases additional cleaning and filtering was needed.\n",
    "\n",
    "When constructing this dataset rows for which neighborhoods could not be identified were dropped."
   ]
  },
  {
   "cell_type": "markdown",
   "metadata": {},
   "source": [
    "Create base dictionary and keys to hold the features of interest."
   ]
  },
  {
   "cell_type": "code",
   "execution_count": 2,
   "metadata": {},
   "outputs": [],
   "source": [
    "import datetime\n",
    "\n",
    "def get_timestamp():\n",
    "    #create timestamp for loggin and uniquely naming output files\n",
    "    now = datetime.datetime.now()\n",
    "    current_time_stamp = f'{now.year}'\n",
    "    current_time_stamp += f'{now.year}'\n",
    "    current_time_stamp += f'{now.month}'\n",
    "    current_time_stamp += f'{now.day}'\n",
    "    current_time_stamp += f'{now.second}'\n",
    "    current_time_stamp += f'{now.microsecond}'\n",
    "    return(current_time_stamp)"
   ]
  },
  {
   "cell_type": "code",
   "execution_count": 3,
   "metadata": {},
   "outputs": [
    {
     "data": {
      "text/plain": [
       "'2019'"
      ]
     },
     "execution_count": 3,
     "metadata": {},
     "output_type": "execute_result"
    }
   ],
   "source": [
    "now = datetime.datetime.now()\n",
    "this_year = current_time_stamp = f'{now.year}' \n",
    "this_year"
   ]
  },
  {
   "cell_type": "markdown",
   "metadata": {},
   "source": [
    "<h3> Create Dictionary to Hold Data Structure"
   ]
  },
  {
   "cell_type": "code",
   "execution_count": 4,
   "metadata": {},
   "outputs": [],
   "source": [
    "#initialize new dictionary\n",
    "sf_neighborhood_changes_dict = {}\n",
    "\n",
    "#get current year\n",
    "now = datetime.datetime.now()\n",
    "this_year = now.year\n",
    "#set start year\n",
    "start_year = 2000\n",
    "#set number of years\n",
    "nyears = this_year - (start_year-2)\n",
    "nyears\n",
    "\n",
    "#create dict structure\n",
    "for i in range(1,nyears):\n",
    "    qdict = {}\n",
    "    for j in range(1,5):\n",
    "        q = f'{start_year}-Q{j}'\n",
    "        #create a nested dictionary for every quarter\n",
    "\n",
    "        ndict = {}\n",
    "        for n in neighborhoods:\n",
    "            #print(f'{q}, {n}')\n",
    "\n",
    "            ndict[n] =  {'bus_opened': 0,\n",
    "                         'bus_closed': 0,\n",
    "                         'evictions': 0,\n",
    "                         'med_price_sqft': 0\n",
    "                }\n",
    "            \n",
    "        sf_neighborhood_changes_dict[q] = ndict\n",
    " \n",
    "    start_year += 1\n",
    "\n",
    "#sf_neighborhood_changes_dict"
   ]
  },
  {
   "cell_type": "code",
   "execution_count": 5,
   "metadata": {},
   "outputs": [],
   "source": [
    "#for each row, increment the dictionary entry for that qstart by 1\n",
    "def increment_metric(q,n,m):  \n",
    "    #print(f'{q}, {n}, {m}')\n",
    "    sf_neighborhood_changes_dict[q][n][m] += 1\n",
    "    #return None"
   ]
  },
  {
   "cell_type": "code",
   "execution_count": 6,
   "metadata": {},
   "outputs": [
    {
     "data": {
      "text/plain": [
       "80"
      ]
     },
     "execution_count": 6,
     "metadata": {},
     "output_type": "execute_result"
    }
   ],
   "source": [
    "len(sf_neighborhood_changes_dict)"
   ]
  },
  {
   "cell_type": "markdown",
   "metadata": {},
   "source": [
    "<h3> Business Registration"
   ]
  },
  {
   "cell_type": "code",
   "execution_count": 7,
   "metadata": {},
   "outputs": [],
   "source": [
    "def reload():\n",
    "    df = pd.read_csv('../tmp/reg_bus_sfonly_clean_stg8_asof20190514.csv', low_memory = False)\n",
    "    #convert dates\n",
    "    df['dba_start'] = pd.to_datetime(df['dba_start']) \n",
    "    df['dba_end'] = pd.to_datetime(df['dba_end'])\n",
    "    df['loc_start'] = pd.to_datetime(df['loc_start'])\n",
    "    df['loc_end'] = pd.to_datetime(df['loc_end'])\n",
    "    return df\n",
    "\n",
    "dfbus = reload()"
   ]
  },
  {
   "cell_type": "code",
   "execution_count": 8,
   "metadata": {},
   "outputs": [
    {
     "data": {
      "text/plain": [
       "(195200, 37)"
      ]
     },
     "execution_count": 8,
     "metadata": {},
     "output_type": "execute_result"
    }
   ],
   "source": [
    "dfbus.shape"
   ]
  },
  {
   "cell_type": "markdown",
   "metadata": {},
   "source": [
    "drop missing neighborhoods. Note, for this dataset the fixed neigborhoods are in \n",
    "the 'new_neighborhoods' column. "
   ]
  },
  {
   "cell_type": "code",
   "execution_count": 9,
   "metadata": {},
   "outputs": [],
   "source": [
    "missing_neighborhood_mask = dfbus['new_neighborhood'] == '.'"
   ]
  },
  {
   "cell_type": "code",
   "execution_count": 10,
   "metadata": {},
   "outputs": [],
   "source": [
    "dfbus_goodhoods = dfbus[~missing_neighborhood_mask]"
   ]
  },
  {
   "cell_type": "code",
   "execution_count": 11,
   "metadata": {},
   "outputs": [
    {
     "data": {
      "text/plain": [
       "(194826, 37)"
      ]
     },
     "execution_count": 11,
     "metadata": {},
     "output_type": "execute_result"
    }
   ],
   "source": [
    "dfbus_goodhoods.shape"
   ]
  },
  {
   "cell_type": "code",
   "execution_count": 12,
   "metadata": {},
   "outputs": [
    {
     "data": {
      "text/plain": [
       "Index(['zip', 'certificate_number', 'city', 'dba_name',\n",
       "       'full_business_address', 'lic', 'lic_code_description', 'location',\n",
       "       'mail_city', 'mail_state', 'mail_zipcode', 'mailing_address_1',\n",
       "       'naic_code', 'naic_code_description', 'neighborhood', 'ownership_name',\n",
       "       'parking_tax', 'state', 'supervisor_district',\n",
       "       'transient_occupancy_tax', 'ttxid', 'dba_start', 'dba_end', 'loc_start',\n",
       "       'loc_end', 'lat', 'lon', 'y_start', 'q_start', 'yq_start', 'y_end',\n",
       "       'q_end', 'yq_end', 'dur', 'status', 'new_neighborhood',\n",
       "       'neighborhood_size'],\n",
       "      dtype='object')"
      ]
     },
     "execution_count": 12,
     "metadata": {},
     "output_type": "execute_result"
    }
   ],
   "source": [
    "dfbus_goodhoods.columns"
   ]
  },
  {
   "cell_type": "markdown",
   "metadata": {},
   "source": [
    "Limit the data to the analysis years. Create a df to iterate over the start dates, then one to iterate over the end dates."
   ]
  },
  {
   "cell_type": "code",
   "execution_count": 13,
   "metadata": {},
   "outputs": [],
   "source": [
    "startedmask = dfbus_goodhoods['y_start'] > 1999\n",
    "endedmask = (dfbus_goodhoods['status'] == 'closed') & (dfbus_goodhoods['y_end'] > 1999)"
   ]
  },
  {
   "cell_type": "code",
   "execution_count": 14,
   "metadata": {},
   "outputs": [],
   "source": [
    "dfstarted = dfbus_goodhoods[startedmask]\n",
    "dfended = dfbus_goodhoods[endedmask]"
   ]
  },
  {
   "cell_type": "code",
   "execution_count": 15,
   "metadata": {},
   "outputs": [
    {
     "data": {
      "text/plain": [
       "(172794, 37)"
      ]
     },
     "execution_count": 15,
     "metadata": {},
     "output_type": "execute_result"
    }
   ],
   "source": [
    "res = dfstarted.apply(lambda row: increment_metric(row.yq_start, row.new_neighborhood, 'bus_opened'), axis=1)\n",
    "dfstarted.shape"
   ]
  },
  {
   "cell_type": "code",
   "execution_count": 16,
   "metadata": {},
   "outputs": [
    {
     "data": {
      "text/plain": [
       "{'bus_opened': 357, 'bus_closed': 0, 'evictions': 0, 'med_price_sqft': 0}"
      ]
     },
     "execution_count": 16,
     "metadata": {},
     "output_type": "execute_result"
    }
   ],
   "source": [
    "#Test\n",
    "sf_neighborhood_changes_dict['2018-Q1']['Mission']"
   ]
  },
  {
   "cell_type": "code",
   "execution_count": 17,
   "metadata": {},
   "outputs": [],
   "source": [
    "res = dfended.apply(lambda row: increment_metric(row.yq_end, row.new_neighborhood, 'bus_closed'), \n",
    "                    axis=1)"
   ]
  },
  {
   "cell_type": "code",
   "execution_count": 18,
   "metadata": {},
   "outputs": [
    {
     "data": {
      "text/plain": [
       "{'bus_opened': 357, 'bus_closed': 237, 'evictions': 0, 'med_price_sqft': 0}"
      ]
     },
     "execution_count": 18,
     "metadata": {},
     "output_type": "execute_result"
    }
   ],
   "source": [
    "#Test\n",
    "sf_neighborhood_changes_dict['2018-Q1']['Mission']"
   ]
  },
  {
   "cell_type": "markdown",
   "metadata": {},
   "source": [
    "<h3> Evictions"
   ]
  },
  {
   "cell_type": "markdown",
   "metadata": {},
   "source": [
    "Read cleaned eviction data"
   ]
  },
  {
   "cell_type": "code",
   "execution_count": 19,
   "metadata": {},
   "outputs": [],
   "source": [
    "dfevic = pd.read_csv('../tmp/evic_cleanstge2_201920195159439871.csv', low_memory = False)"
   ]
  },
  {
   "cell_type": "markdown",
   "metadata": {},
   "source": [
    "Drop missing neighborhoods"
   ]
  },
  {
   "cell_type": "code",
   "execution_count": 20,
   "metadata": {},
   "outputs": [],
   "source": [
    "missing_neighborhood_mask = dfevic['neighborhood'] == '.'\n",
    "dfevic_goodhoods = dfevic[~missing_neighborhood_mask]"
   ]
  },
  {
   "cell_type": "code",
   "execution_count": 21,
   "metadata": {},
   "outputs": [
    {
     "data": {
      "text/plain": [
       "(39037, 35)"
      ]
     },
     "execution_count": 21,
     "metadata": {},
     "output_type": "execute_result"
    }
   ],
   "source": [
    "dfevic_goodhoods.shape"
   ]
  },
  {
   "cell_type": "markdown",
   "metadata": {},
   "source": [
    "Limit the data to the analysis years. Create a df to iterate over the start dates, then one to iterate over the end dates."
   ]
  },
  {
   "cell_type": "code",
   "execution_count": 22,
   "metadata": {},
   "outputs": [
    {
     "name": "stdout",
     "output_type": "stream",
     "text": [
      "<class 'pandas.core.frame.DataFrame'>\n",
      "Int64Index: 39037 entries, 0 to 40448\n",
      "Data columns (total 35 columns):\n",
      "access_denial              39037 non-null bool\n",
      "address                    39037 non-null object\n",
      "breach                     39037 non-null bool\n",
      "capital_improvement        39037 non-null bool\n",
      "city                       39035 non-null object\n",
      "client_location            39037 non-null object\n",
      "condo_conversion           39037 non-null bool\n",
      "constraints_date           3940 non-null object\n",
      "demolition                 39037 non-null bool\n",
      "development                39037 non-null bool\n",
      "ellis_act_withdrawal       39037 non-null bool\n",
      "eviction_id                39037 non-null object\n",
      "failure_to_sign_renewal    39037 non-null bool\n",
      "file_date                  39037 non-null object\n",
      "good_samaritan_ends        39037 non-null bool\n",
      "illegal_use                39037 non-null bool\n",
      "late_payments              39037 non-null bool\n",
      "lead_remediation           39037 non-null bool\n",
      "neighborhood               39037 non-null object\n",
      "non_payment                39037 non-null bool\n",
      "nuisance                   39037 non-null bool\n",
      "other_cause                39037 non-null bool\n",
      "owner_move_in              39037 non-null bool\n",
      "roommate_same_unit         39037 non-null bool\n",
      "state                      39035 non-null object\n",
      "substantial_rehab          39037 non-null bool\n",
      "supervisor_district        39037 non-null object\n",
      "unapproved_subtenant       39037 non-null bool\n",
      "zip                        39037 non-null object\n",
      "lat                        39037 non-null float64\n",
      "lon                        39037 non-null float64\n",
      "new_neighborhood           39037 non-null object\n",
      "year                       39037 non-null int64\n",
      "quarter                    39037 non-null int64\n",
      "yq                         39037 non-null object\n",
      "dtypes: bool(19), float64(2), int64(2), object(12)\n",
      "memory usage: 5.8+ MB\n"
     ]
    }
   ],
   "source": [
    "dfevic_goodhoods.info()"
   ]
  },
  {
   "cell_type": "code",
   "execution_count": 25,
   "metadata": {},
   "outputs": [],
   "source": [
    "#for each row, increment the dictionary entry for that qstart by 1\n",
    "def increment_metric(q,n,m):  \n",
    "    #print(f'{q}, {n}, {m}')\n",
    "    try:\n",
    "        sf_neighborhood_changes_dict[q][n][m] += 1\n",
    "    except:\n",
    "        pass\n",
    "        #print(f'error on: {q}, {n}, {m}')\n",
    "    #return None"
   ]
  },
  {
   "cell_type": "code",
   "execution_count": 26,
   "metadata": {},
   "outputs": [],
   "source": [
    "startedmask_e = dfevic_goodhoods['year'] > 1999\n"
   ]
  },
  {
   "cell_type": "code",
   "execution_count": 27,
   "metadata": {},
   "outputs": [],
   "source": [
    "dfstarted_e = dfevic_goodhoods[startedmask_e]\n"
   ]
  },
  {
   "cell_type": "code",
   "execution_count": 28,
   "metadata": {},
   "outputs": [
    {
     "data": {
      "text/plain": [
       "(31477, 35)"
      ]
     },
     "execution_count": 28,
     "metadata": {},
     "output_type": "execute_result"
    }
   ],
   "source": [
    "dfstarted_e.shape"
   ]
  },
  {
   "cell_type": "code",
   "execution_count": 29,
   "metadata": {},
   "outputs": [],
   "source": [
    "res = dfstarted_e.apply(lambda row: increment_metric(row.yq, row.neighborhood, 'evictions'), axis=1)"
   ]
  },
  {
   "cell_type": "code",
   "execution_count": 30,
   "metadata": {},
   "outputs": [
    {
     "data": {
      "text/plain": [
       "{'bus_opened': 357, 'bus_closed': 237, 'evictions': 55, 'med_price_sqft': 0}"
      ]
     },
     "execution_count": 30,
     "metadata": {},
     "output_type": "execute_result"
    }
   ],
   "source": [
    "#Test\n",
    "sf_neighborhood_changes_dict['2018-Q1']['Mission']"
   ]
  },
  {
   "cell_type": "markdown",
   "metadata": {},
   "source": [
    "<h3> Meidan Price Per Square Foot"
   ]
  },
  {
   "cell_type": "markdown",
   "metadata": {},
   "source": [
    "This file was downloaded from Zillow. https://www.zillow.com/research/data/"
   ]
  },
  {
   "cell_type": "code",
   "execution_count": 31,
   "metadata": {},
   "outputs": [],
   "source": [
    "dfmedpr = pd.read_csv('../data/Neighborhood_MedianValuePerSqft_allSF.csv', low_memory=False)"
   ]
  },
  {
   "cell_type": "code",
   "execution_count": 32,
   "metadata": {},
   "outputs": [
    {
     "data": {
      "text/html": [
       "<div>\n",
       "<style scoped>\n",
       "    .dataframe tbody tr th:only-of-type {\n",
       "        vertical-align: middle;\n",
       "    }\n",
       "\n",
       "    .dataframe tbody tr th {\n",
       "        vertical-align: top;\n",
       "    }\n",
       "\n",
       "    .dataframe thead th {\n",
       "        text-align: right;\n",
       "    }\n",
       "</style>\n",
       "<table border=\"1\" class=\"dataframe\">\n",
       "  <thead>\n",
       "    <tr style=\"text-align: right;\">\n",
       "      <th></th>\n",
       "      <th>RegionID</th>\n",
       "      <th>Neighborhood</th>\n",
       "      <th>RegionName</th>\n",
       "      <th>City</th>\n",
       "      <th>State</th>\n",
       "      <th>Metro</th>\n",
       "      <th>CountyName</th>\n",
       "      <th>SizeRank</th>\n",
       "      <th>1996-04</th>\n",
       "      <th>1996-05</th>\n",
       "      <th>...</th>\n",
       "      <th>2018-06</th>\n",
       "      <th>2018-07</th>\n",
       "      <th>2018-08</th>\n",
       "      <th>2018-09</th>\n",
       "      <th>2018-10</th>\n",
       "      <th>2018-11</th>\n",
       "      <th>2018-12</th>\n",
       "      <th>2019-01</th>\n",
       "      <th>2019-02</th>\n",
       "      <th>2019-03</th>\n",
       "    </tr>\n",
       "  </thead>\n",
       "  <tbody>\n",
       "    <tr>\n",
       "      <th>0</th>\n",
       "      <td>275789</td>\n",
       "      <td>Castro/Upper Market</td>\n",
       "      <td>Upper Market</td>\n",
       "      <td>San Francisco</td>\n",
       "      <td>CA</td>\n",
       "      <td>San Francisco-Oakland-Hayward</td>\n",
       "      <td>San Francisco County</td>\n",
       "      <td>3364</td>\n",
       "      <td>234</td>\n",
       "      <td>234</td>\n",
       "      <td>...</td>\n",
       "      <td>1095</td>\n",
       "      <td>1097</td>\n",
       "      <td>1099</td>\n",
       "      <td>1102</td>\n",
       "      <td>1104</td>\n",
       "      <td>1103</td>\n",
       "      <td>1102</td>\n",
       "      <td>1100</td>\n",
       "      <td>1097</td>\n",
       "      <td>1089</td>\n",
       "    </tr>\n",
       "    <tr>\n",
       "      <th>1</th>\n",
       "      <td>272885</td>\n",
       "      <td>Bayview</td>\n",
       "      <td>Bayview</td>\n",
       "      <td>San Francisco</td>\n",
       "      <td>CA</td>\n",
       "      <td>San Francisco-Oakland-Hayward</td>\n",
       "      <td>San Francisco County</td>\n",
       "      <td>877</td>\n",
       "      <td>113</td>\n",
       "      <td>114</td>\n",
       "      <td>...</td>\n",
       "      <td>674</td>\n",
       "      <td>678</td>\n",
       "      <td>681</td>\n",
       "      <td>687</td>\n",
       "      <td>696</td>\n",
       "      <td>701</td>\n",
       "      <td>705</td>\n",
       "      <td>707</td>\n",
       "      <td>704</td>\n",
       "      <td>698</td>\n",
       "    </tr>\n",
       "    <tr>\n",
       "      <th>2</th>\n",
       "      <td>268020</td>\n",
       "      <td>Bernal Heights</td>\n",
       "      <td>Bernal Heights</td>\n",
       "      <td>San Francisco</td>\n",
       "      <td>CA</td>\n",
       "      <td>San Francisco-Oakland-Hayward</td>\n",
       "      <td>San Francisco County</td>\n",
       "      <td>727</td>\n",
       "      <td>174</td>\n",
       "      <td>175</td>\n",
       "      <td>...</td>\n",
       "      <td>1187</td>\n",
       "      <td>1197</td>\n",
       "      <td>1206</td>\n",
       "      <td>1210</td>\n",
       "      <td>1210</td>\n",
       "      <td>1205</td>\n",
       "      <td>1201</td>\n",
       "      <td>1200</td>\n",
       "      <td>1194</td>\n",
       "      <td>1183</td>\n",
       "    </tr>\n",
       "    <tr>\n",
       "      <th>3</th>\n",
       "      <td>417524</td>\n",
       "      <td>Buena Vista</td>\n",
       "      <td>Buena Vista</td>\n",
       "      <td>San Francisco</td>\n",
       "      <td>CA</td>\n",
       "      <td>San Francisco-Oakland-Hayward</td>\n",
       "      <td>San Francisco County</td>\n",
       "      <td>2016</td>\n",
       "      <td>236</td>\n",
       "      <td>237</td>\n",
       "      <td>...</td>\n",
       "      <td>1211</td>\n",
       "      <td>1223</td>\n",
       "      <td>1237</td>\n",
       "      <td>1245</td>\n",
       "      <td>1249</td>\n",
       "      <td>1247</td>\n",
       "      <td>1246</td>\n",
       "      <td>1242</td>\n",
       "      <td>1228</td>\n",
       "      <td>1213</td>\n",
       "    </tr>\n",
       "    <tr>\n",
       "      <th>4</th>\n",
       "      <td>417519</td>\n",
       "      <td>Corona Heights</td>\n",
       "      <td>Corona Heights</td>\n",
       "      <td>San Francisco</td>\n",
       "      <td>CA</td>\n",
       "      <td>San Francisco-Oakland-Hayward</td>\n",
       "      <td>San Francisco County</td>\n",
       "      <td>5314</td>\n",
       "      <td>254</td>\n",
       "      <td>254</td>\n",
       "      <td>...</td>\n",
       "      <td>1266</td>\n",
       "      <td>1274</td>\n",
       "      <td>1278</td>\n",
       "      <td>1284</td>\n",
       "      <td>1291</td>\n",
       "      <td>1295</td>\n",
       "      <td>1301</td>\n",
       "      <td>1307</td>\n",
       "      <td>1305</td>\n",
       "      <td>1298</td>\n",
       "    </tr>\n",
       "  </tbody>\n",
       "</table>\n",
       "<p>5 rows × 284 columns</p>\n",
       "</div>"
      ],
      "text/plain": [
       "   RegionID         Neighborhood      RegionName           City State  \\\n",
       "0    275789  Castro/Upper Market    Upper Market  San Francisco    CA   \n",
       "1    272885              Bayview         Bayview  San Francisco    CA   \n",
       "2    268020       Bernal Heights  Bernal Heights  San Francisco    CA   \n",
       "3    417524          Buena Vista     Buena Vista  San Francisco    CA   \n",
       "4    417519       Corona Heights  Corona Heights  San Francisco    CA   \n",
       "\n",
       "                           Metro            CountyName  SizeRank  1996-04  \\\n",
       "0  San Francisco-Oakland-Hayward  San Francisco County      3364      234   \n",
       "1  San Francisco-Oakland-Hayward  San Francisco County       877      113   \n",
       "2  San Francisco-Oakland-Hayward  San Francisco County       727      174   \n",
       "3  San Francisco-Oakland-Hayward  San Francisco County      2016      236   \n",
       "4  San Francisco-Oakland-Hayward  San Francisco County      5314      254   \n",
       "\n",
       "   1996-05  ...  2018-06  2018-07  2018-08  2018-09  2018-10  2018-11  \\\n",
       "0      234  ...     1095     1097     1099     1102     1104     1103   \n",
       "1      114  ...      674      678      681      687      696      701   \n",
       "2      175  ...     1187     1197     1206     1210     1210     1205   \n",
       "3      237  ...     1211     1223     1237     1245     1249     1247   \n",
       "4      254  ...     1266     1274     1278     1284     1291     1295   \n",
       "\n",
       "   2018-12  2019-01  2019-02  2019-03  \n",
       "0     1102     1100     1097     1089  \n",
       "1      705      707      704      698  \n",
       "2     1201     1200     1194     1183  \n",
       "3     1246     1242     1228     1213  \n",
       "4     1301     1307     1305     1298  \n",
       "\n",
       "[5 rows x 284 columns]"
      ]
     },
     "execution_count": 32,
     "metadata": {},
     "output_type": "execute_result"
    }
   ],
   "source": [
    "dfmedpr.head()"
   ]
  },
  {
   "cell_type": "markdown",
   "metadata": {},
   "source": [
    "This dataset has one row per neighborood.\n",
    "Rename the region to neighborhood."
   ]
  },
  {
   "cell_type": "code",
   "execution_count": 33,
   "metadata": {},
   "outputs": [],
   "source": [
    "dfmedpr.rename(columns={\"Neighborhood\": \"neighborhood\"}, inplace=True)"
   ]
  },
  {
   "cell_type": "markdown",
   "metadata": {},
   "source": [
    "First,  append the SizeRank directly to the business dataset.  Add it to the dictionary first, then it will be an easier transformation."
   ]
  },
  {
   "cell_type": "code",
   "execution_count": 34,
   "metadata": {},
   "outputs": [],
   "source": [
    "size_dict = {}\n",
    "def add_size(n,r):\n",
    "    size_dict[n] = r\n",
    "    return None\n",
    "\n",
    "res = dfmedpr.apply(lambda row: add_size(row.neighborhood, row.SizeRank), axis=1)"
   ]
  },
  {
   "cell_type": "code",
   "execution_count": 35,
   "metadata": {},
   "outputs": [],
   "source": [
    "def add_size_rank_to_bus(n):\n",
    "    try:\n",
    "        size = size_dict[n]\n",
    "    except:\n",
    "        size = 0\n",
    "    return size"
   ]
  },
  {
   "cell_type": "code",
   "execution_count": 36,
   "metadata": {},
   "outputs": [],
   "source": [
    "import warnings;\n",
    "warnings.simplefilter('ignore')"
   ]
  },
  {
   "cell_type": "code",
   "execution_count": 37,
   "metadata": {},
   "outputs": [],
   "source": [
    "dfbus_goodhoods['size_rank'] = dfbus_goodhoods.apply(lambda row: \n",
    "                                    add_size_rank_to_bus(row.new_neighborhood), axis=1)   "
   ]
  },
  {
   "cell_type": "code",
   "execution_count": 38,
   "metadata": {},
   "outputs": [],
   "source": [
    "#save again\n",
    "dfbus_goodhoods.to_csv('../tmp/reg_bus_with_zillow_rank_asof20190515.csv', index=False)"
   ]
  },
  {
   "cell_type": "code",
   "execution_count": 39,
   "metadata": {},
   "outputs": [],
   "source": [
    "dfbus_goodhoods = pd.read_csv('../tmp/reg_bus_with_zillow_rank_asof20190515.csv', low_memory = False)"
   ]
  },
  {
   "cell_type": "code",
   "execution_count": 40,
   "metadata": {},
   "outputs": [
    {
     "data": {
      "text/plain": [
       "0       75429\n",
       "235     14171\n",
       "498     12861\n",
       "355      6365\n",
       "1124     5897\n",
       "Name: size_rank, dtype: int64"
      ]
     },
     "execution_count": 40,
     "metadata": {},
     "output_type": "execute_result"
    }
   ],
   "source": [
    "dfbus_goodhoods['size_rank'].value_counts().head()"
   ]
  },
  {
   "cell_type": "markdown",
   "metadata": {},
   "source": [
    "The median value per quarter for this dataset is contained in columns. We will need a new function to process the  the metric."
   ]
  },
  {
   "cell_type": "code",
   "execution_count": 41,
   "metadata": {},
   "outputs": [
    {
     "data": {
      "text/plain": [
       "2020"
      ]
     },
     "execution_count": 41,
     "metadata": {},
     "output_type": "execute_result"
    }
   ],
   "source": [
    "start_year"
   ]
  },
  {
   "cell_type": "code",
   "execution_count": 42,
   "metadata": {},
   "outputs": [
    {
     "data": {
      "text/plain": [
       "(21, 2000)"
      ]
     },
     "execution_count": 42,
     "metadata": {},
     "output_type": "execute_result"
    }
   ],
   "source": [
    "#get current year\n",
    "now = datetime.datetime.now()\n",
    "this_year = now.year\n",
    "#set start year\n",
    "start_year = 2000\n",
    "#set number of years\n",
    "nyears = this_year - (start_year-2)\n",
    "nyears, start_year"
   ]
  },
  {
   "cell_type": "code",
   "execution_count": 43,
   "metadata": {},
   "outputs": [
    {
     "data": {
      "text/html": [
       "<div>\n",
       "<style scoped>\n",
       "    .dataframe tbody tr th:only-of-type {\n",
       "        vertical-align: middle;\n",
       "    }\n",
       "\n",
       "    .dataframe tbody tr th {\n",
       "        vertical-align: top;\n",
       "    }\n",
       "\n",
       "    .dataframe thead th {\n",
       "        text-align: right;\n",
       "    }\n",
       "</style>\n",
       "<table border=\"1\" class=\"dataframe\">\n",
       "  <thead>\n",
       "    <tr style=\"text-align: right;\">\n",
       "      <th></th>\n",
       "      <th>RegionID</th>\n",
       "      <th>neighborhood</th>\n",
       "      <th>RegionName</th>\n",
       "      <th>City</th>\n",
       "      <th>State</th>\n",
       "      <th>Metro</th>\n",
       "      <th>CountyName</th>\n",
       "      <th>SizeRank</th>\n",
       "      <th>1996-04</th>\n",
       "      <th>1996-05</th>\n",
       "      <th>...</th>\n",
       "      <th>2018-06</th>\n",
       "      <th>2018-07</th>\n",
       "      <th>2018-08</th>\n",
       "      <th>2018-09</th>\n",
       "      <th>2018-10</th>\n",
       "      <th>2018-11</th>\n",
       "      <th>2018-12</th>\n",
       "      <th>2019-01</th>\n",
       "      <th>2019-02</th>\n",
       "      <th>2019-03</th>\n",
       "    </tr>\n",
       "  </thead>\n",
       "  <tbody>\n",
       "    <tr>\n",
       "      <th>0</th>\n",
       "      <td>275789</td>\n",
       "      <td>Castro/Upper Market</td>\n",
       "      <td>Upper Market</td>\n",
       "      <td>San Francisco</td>\n",
       "      <td>CA</td>\n",
       "      <td>San Francisco-Oakland-Hayward</td>\n",
       "      <td>San Francisco County</td>\n",
       "      <td>3364</td>\n",
       "      <td>234</td>\n",
       "      <td>234</td>\n",
       "      <td>...</td>\n",
       "      <td>1095</td>\n",
       "      <td>1097</td>\n",
       "      <td>1099</td>\n",
       "      <td>1102</td>\n",
       "      <td>1104</td>\n",
       "      <td>1103</td>\n",
       "      <td>1102</td>\n",
       "      <td>1100</td>\n",
       "      <td>1097</td>\n",
       "      <td>1089</td>\n",
       "    </tr>\n",
       "    <tr>\n",
       "      <th>1</th>\n",
       "      <td>272885</td>\n",
       "      <td>Bayview</td>\n",
       "      <td>Bayview</td>\n",
       "      <td>San Francisco</td>\n",
       "      <td>CA</td>\n",
       "      <td>San Francisco-Oakland-Hayward</td>\n",
       "      <td>San Francisco County</td>\n",
       "      <td>877</td>\n",
       "      <td>113</td>\n",
       "      <td>114</td>\n",
       "      <td>...</td>\n",
       "      <td>674</td>\n",
       "      <td>678</td>\n",
       "      <td>681</td>\n",
       "      <td>687</td>\n",
       "      <td>696</td>\n",
       "      <td>701</td>\n",
       "      <td>705</td>\n",
       "      <td>707</td>\n",
       "      <td>704</td>\n",
       "      <td>698</td>\n",
       "    </tr>\n",
       "    <tr>\n",
       "      <th>2</th>\n",
       "      <td>268020</td>\n",
       "      <td>Bernal Heights</td>\n",
       "      <td>Bernal Heights</td>\n",
       "      <td>San Francisco</td>\n",
       "      <td>CA</td>\n",
       "      <td>San Francisco-Oakland-Hayward</td>\n",
       "      <td>San Francisco County</td>\n",
       "      <td>727</td>\n",
       "      <td>174</td>\n",
       "      <td>175</td>\n",
       "      <td>...</td>\n",
       "      <td>1187</td>\n",
       "      <td>1197</td>\n",
       "      <td>1206</td>\n",
       "      <td>1210</td>\n",
       "      <td>1210</td>\n",
       "      <td>1205</td>\n",
       "      <td>1201</td>\n",
       "      <td>1200</td>\n",
       "      <td>1194</td>\n",
       "      <td>1183</td>\n",
       "    </tr>\n",
       "    <tr>\n",
       "      <th>3</th>\n",
       "      <td>417524</td>\n",
       "      <td>Buena Vista</td>\n",
       "      <td>Buena Vista</td>\n",
       "      <td>San Francisco</td>\n",
       "      <td>CA</td>\n",
       "      <td>San Francisco-Oakland-Hayward</td>\n",
       "      <td>San Francisco County</td>\n",
       "      <td>2016</td>\n",
       "      <td>236</td>\n",
       "      <td>237</td>\n",
       "      <td>...</td>\n",
       "      <td>1211</td>\n",
       "      <td>1223</td>\n",
       "      <td>1237</td>\n",
       "      <td>1245</td>\n",
       "      <td>1249</td>\n",
       "      <td>1247</td>\n",
       "      <td>1246</td>\n",
       "      <td>1242</td>\n",
       "      <td>1228</td>\n",
       "      <td>1213</td>\n",
       "    </tr>\n",
       "    <tr>\n",
       "      <th>4</th>\n",
       "      <td>417519</td>\n",
       "      <td>Corona Heights</td>\n",
       "      <td>Corona Heights</td>\n",
       "      <td>San Francisco</td>\n",
       "      <td>CA</td>\n",
       "      <td>San Francisco-Oakland-Hayward</td>\n",
       "      <td>San Francisco County</td>\n",
       "      <td>5314</td>\n",
       "      <td>254</td>\n",
       "      <td>254</td>\n",
       "      <td>...</td>\n",
       "      <td>1266</td>\n",
       "      <td>1274</td>\n",
       "      <td>1278</td>\n",
       "      <td>1284</td>\n",
       "      <td>1291</td>\n",
       "      <td>1295</td>\n",
       "      <td>1301</td>\n",
       "      <td>1307</td>\n",
       "      <td>1305</td>\n",
       "      <td>1298</td>\n",
       "    </tr>\n",
       "  </tbody>\n",
       "</table>\n",
       "<p>5 rows × 284 columns</p>\n",
       "</div>"
      ],
      "text/plain": [
       "   RegionID         neighborhood      RegionName           City State  \\\n",
       "0    275789  Castro/Upper Market    Upper Market  San Francisco    CA   \n",
       "1    272885              Bayview         Bayview  San Francisco    CA   \n",
       "2    268020       Bernal Heights  Bernal Heights  San Francisco    CA   \n",
       "3    417524          Buena Vista     Buena Vista  San Francisco    CA   \n",
       "4    417519       Corona Heights  Corona Heights  San Francisco    CA   \n",
       "\n",
       "                           Metro            CountyName  SizeRank  1996-04  \\\n",
       "0  San Francisco-Oakland-Hayward  San Francisco County      3364      234   \n",
       "1  San Francisco-Oakland-Hayward  San Francisco County       877      113   \n",
       "2  San Francisco-Oakland-Hayward  San Francisco County       727      174   \n",
       "3  San Francisco-Oakland-Hayward  San Francisco County      2016      236   \n",
       "4  San Francisco-Oakland-Hayward  San Francisco County      5314      254   \n",
       "\n",
       "   1996-05  ...  2018-06  2018-07  2018-08  2018-09  2018-10  2018-11  \\\n",
       "0      234  ...     1095     1097     1099     1102     1104     1103   \n",
       "1      114  ...      674      678      681      687      696      701   \n",
       "2      175  ...     1187     1197     1206     1210     1210     1205   \n",
       "3      237  ...     1211     1223     1237     1245     1249     1247   \n",
       "4      254  ...     1266     1274     1278     1284     1291     1295   \n",
       "\n",
       "   2018-12  2019-01  2019-02  2019-03  \n",
       "0     1102     1100     1097     1089  \n",
       "1      705      707      704      698  \n",
       "2     1201     1200     1194     1183  \n",
       "3     1246     1242     1228     1213  \n",
       "4     1301     1307     1305     1298  \n",
       "\n",
       "[5 rows x 284 columns]"
      ]
     },
     "execution_count": 43,
     "metadata": {},
     "output_type": "execute_result"
    }
   ],
   "source": [
    "dfmedpr.head()"
   ]
  },
  {
   "cell_type": "code",
   "execution_count": 44,
   "metadata": {},
   "outputs": [],
   "source": [
    "def add_med_price(row): \n",
    "    \n",
    "    n = row.neighborhood\n",
    "    m = 'med_price_sqft'\n",
    "    year = start_year\n",
    "    \n",
    "    for i in range(1,nyears-1):\n",
    "        \n",
    "        for j in range(1,5):\n",
    "            q = f'{year}-Q{j}'            \n",
    "            \n",
    "            #if it quarter j is 1, get the value for January\n",
    "            #if it is 2,3,4 get the value for April,July,October\n",
    "            if j == 1:\n",
    "                price_mo = f'{year}-01'\n",
    "            elif j == 2:\n",
    "                price_mo = f'{year}-04'\n",
    "            elif j == 3:\n",
    "                price_mo = f'{year}-07'\n",
    "            else:\n",
    "                price_mo = f'{year}-04'                \n",
    "\n",
    "            price = row[price_mo]\n",
    "            \n",
    "            \n",
    "            try:\n",
    "                sf_neighborhood_changes_dict[q][n][m] = price\n",
    "            except:\n",
    "                pass\n",
    "                #print(f'error on: {q}, {n}, {m}')\n",
    "                \n",
    "                \n",
    "        year +=1 "
   ]
  },
  {
   "cell_type": "code",
   "execution_count": 45,
   "metadata": {},
   "outputs": [],
   "source": [
    "res = dfmedpr.apply(lambda x: add_med_price(x), axis = 1)"
   ]
  },
  {
   "cell_type": "code",
   "execution_count": 46,
   "metadata": {},
   "outputs": [
    {
     "data": {
      "text/plain": [
       "{'bus_opened': 357, 'bus_closed': 237, 'evictions': 55, 'med_price_sqft': 1111}"
      ]
     },
     "execution_count": 46,
     "metadata": {},
     "output_type": "execute_result"
    }
   ],
   "source": [
    "#Test\n",
    "sf_neighborhood_changes_dict['2018-Q1']['Mission']"
   ]
  },
  {
   "cell_type": "markdown",
   "metadata": {},
   "source": [
    "<h3> Add Features to Business Dataset"
   ]
  },
  {
   "cell_type": "code",
   "execution_count": 47,
   "metadata": {},
   "outputs": [
    {
     "data": {
      "text/plain": [
       "(194826, 38)"
      ]
     },
     "execution_count": 47,
     "metadata": {},
     "output_type": "execute_result"
    }
   ],
   "source": [
    "dfbus_goodhoods.shape"
   ]
  },
  {
   "cell_type": "code",
   "execution_count": 48,
   "metadata": {},
   "outputs": [],
   "source": [
    "started_2000_through_2018 = (dfbus_goodhoods['y_start'] > 1999) & (dfbus_goodhoods['y_start'] < 2019) "
   ]
  },
  {
   "cell_type": "code",
   "execution_count": 49,
   "metadata": {},
   "outputs": [],
   "source": [
    "df_recent = dfbus_goodhoods[started_2000_through_2018]"
   ]
  },
  {
   "cell_type": "code",
   "execution_count": 50,
   "metadata": {},
   "outputs": [
    {
     "data": {
      "text/plain": [
       "(168692, 38)"
      ]
     },
     "execution_count": 50,
     "metadata": {},
     "output_type": "execute_result"
    }
   ],
   "source": [
    "df_recent.shape"
   ]
  },
  {
   "cell_type": "code",
   "execution_count": 51,
   "metadata": {},
   "outputs": [
    {
     "data": {
      "text/html": [
       "<div>\n",
       "<style scoped>\n",
       "    .dataframe tbody tr th:only-of-type {\n",
       "        vertical-align: middle;\n",
       "    }\n",
       "\n",
       "    .dataframe tbody tr th {\n",
       "        vertical-align: top;\n",
       "    }\n",
       "\n",
       "    .dataframe thead th {\n",
       "        text-align: right;\n",
       "    }\n",
       "</style>\n",
       "<table border=\"1\" class=\"dataframe\">\n",
       "  <thead>\n",
       "    <tr style=\"text-align: right;\">\n",
       "      <th></th>\n",
       "      <th>zip</th>\n",
       "      <th>certificate_number</th>\n",
       "      <th>city</th>\n",
       "      <th>dba_name</th>\n",
       "      <th>full_business_address</th>\n",
       "      <th>lic</th>\n",
       "      <th>lic_code_description</th>\n",
       "      <th>location</th>\n",
       "      <th>mail_city</th>\n",
       "      <th>mail_state</th>\n",
       "      <th>...</th>\n",
       "      <th>q_start</th>\n",
       "      <th>yq_start</th>\n",
       "      <th>y_end</th>\n",
       "      <th>q_end</th>\n",
       "      <th>yq_end</th>\n",
       "      <th>dur</th>\n",
       "      <th>status</th>\n",
       "      <th>new_neighborhood</th>\n",
       "      <th>neighborhood_size</th>\n",
       "      <th>size_rank</th>\n",
       "    </tr>\n",
       "  </thead>\n",
       "  <tbody>\n",
       "    <tr>\n",
       "      <th>5</th>\n",
       "      <td>94133.0</td>\n",
       "      <td>86</td>\n",
       "      <td>San Francisco</td>\n",
       "      <td>1601 Grant Parking</td>\n",
       "      <td>1601 Grant Ave</td>\n",
       "      <td>.</td>\n",
       "      <td>.</td>\n",
       "      <td>{'latitude': '37.801724', 'longitude': '-122.4...</td>\n",
       "      <td>NaN</td>\n",
       "      <td>NaN</td>\n",
       "      <td>...</td>\n",
       "      <td>1</td>\n",
       "      <td>2013-Q1</td>\n",
       "      <td>2016</td>\n",
       "      <td>2.0</td>\n",
       "      <td>2016-Q2</td>\n",
       "      <td>13</td>\n",
       "      <td>closed</td>\n",
       "      <td>North Beach</td>\n",
       "      <td>Medium</td>\n",
       "      <td>5770</td>\n",
       "    </tr>\n",
       "    <tr>\n",
       "      <th>7</th>\n",
       "      <td>94118.0</td>\n",
       "      <td>189</td>\n",
       "      <td>San Francisco</td>\n",
       "      <td>Abbey Carpet</td>\n",
       "      <td>2900 Geary Blvd</td>\n",
       "      <td>.</td>\n",
       "      <td>.</td>\n",
       "      <td>{'latitude': '37.782133', 'longitude': '-122.4...</td>\n",
       "      <td>San Francisco</td>\n",
       "      <td>CA</td>\n",
       "      <td>...</td>\n",
       "      <td>3</td>\n",
       "      <td>2012-Q3</td>\n",
       "      <td>9999</td>\n",
       "      <td>0.0</td>\n",
       "      <td>NaN</td>\n",
       "      <td>27</td>\n",
       "      <td>open</td>\n",
       "      <td>Presidio Heights</td>\n",
       "      <td>Medium</td>\n",
       "      <td>3259</td>\n",
       "    </tr>\n",
       "    <tr>\n",
       "      <th>8</th>\n",
       "      <td>94118.0</td>\n",
       "      <td>189</td>\n",
       "      <td>San Francisco</td>\n",
       "      <td>Abbey Carpet Of San Francisco</td>\n",
       "      <td>2900 Geary Blvd</td>\n",
       "      <td>.</td>\n",
       "      <td>.</td>\n",
       "      <td>{'latitude': '37.782133', 'longitude': '-122.4...</td>\n",
       "      <td>San Francisco</td>\n",
       "      <td>CA</td>\n",
       "      <td>...</td>\n",
       "      <td>4</td>\n",
       "      <td>2013-Q4</td>\n",
       "      <td>9999</td>\n",
       "      <td>0.0</td>\n",
       "      <td>NaN</td>\n",
       "      <td>22</td>\n",
       "      <td>open</td>\n",
       "      <td>Presidio Heights</td>\n",
       "      <td>Medium</td>\n",
       "      <td>3259</td>\n",
       "    </tr>\n",
       "    <tr>\n",
       "      <th>10</th>\n",
       "      <td>94124.0</td>\n",
       "      <td>216</td>\n",
       "      <td>San Francisco</td>\n",
       "      <td>Abc Insurance</td>\n",
       "      <td>1727 Oakdale Ave</td>\n",
       "      <td>.</td>\n",
       "      <td>.</td>\n",
       "      <td>{'latitude': '37.736139', 'longitude': '-122.3...</td>\n",
       "      <td>NaN</td>\n",
       "      <td>NaN</td>\n",
       "      <td>...</td>\n",
       "      <td>4</td>\n",
       "      <td>2002-Q4</td>\n",
       "      <td>2018</td>\n",
       "      <td>2.0</td>\n",
       "      <td>2018-Q2</td>\n",
       "      <td>62</td>\n",
       "      <td>closed</td>\n",
       "      <td>Bayview Hunters Point</td>\n",
       "      <td>Medium</td>\n",
       "      <td>0</td>\n",
       "    </tr>\n",
       "    <tr>\n",
       "      <th>14</th>\n",
       "      <td>94107.0</td>\n",
       "      <td>244</td>\n",
       "      <td>San Francisco</td>\n",
       "      <td>Able Services</td>\n",
       "      <td>868 Folsom St</td>\n",
       "      <td>.</td>\n",
       "      <td>.</td>\n",
       "      <td>{'latitude': '37.780746', 'longitude': '-122.4...</td>\n",
       "      <td>San Francisco</td>\n",
       "      <td>CA</td>\n",
       "      <td>...</td>\n",
       "      <td>2</td>\n",
       "      <td>2005-Q2</td>\n",
       "      <td>9999</td>\n",
       "      <td>0.0</td>\n",
       "      <td>NaN</td>\n",
       "      <td>56</td>\n",
       "      <td>open</td>\n",
       "      <td>South of Market</td>\n",
       "      <td>Dense</td>\n",
       "      <td>498</td>\n",
       "    </tr>\n",
       "  </tbody>\n",
       "</table>\n",
       "<p>5 rows × 38 columns</p>\n",
       "</div>"
      ],
      "text/plain": [
       "        zip  certificate_number           city                       dba_name  \\\n",
       "5   94133.0                  86  San Francisco             1601 Grant Parking   \n",
       "7   94118.0                 189  San Francisco                   Abbey Carpet   \n",
       "8   94118.0                 189  San Francisco  Abbey Carpet Of San Francisco   \n",
       "10  94124.0                 216  San Francisco                  Abc Insurance   \n",
       "14  94107.0                 244  San Francisco                  Able Services   \n",
       "\n",
       "   full_business_address lic lic_code_description  \\\n",
       "5         1601 Grant Ave   .                    .   \n",
       "7        2900 Geary Blvd   .                    .   \n",
       "8        2900 Geary Blvd   .                    .   \n",
       "10      1727 Oakdale Ave   .                    .   \n",
       "14         868 Folsom St   .                    .   \n",
       "\n",
       "                                             location      mail_city  \\\n",
       "5   {'latitude': '37.801724', 'longitude': '-122.4...            NaN   \n",
       "7   {'latitude': '37.782133', 'longitude': '-122.4...  San Francisco   \n",
       "8   {'latitude': '37.782133', 'longitude': '-122.4...  San Francisco   \n",
       "10  {'latitude': '37.736139', 'longitude': '-122.3...            NaN   \n",
       "14  {'latitude': '37.780746', 'longitude': '-122.4...  San Francisco   \n",
       "\n",
       "   mail_state  ... q_start yq_start y_end q_end   yq_end dur  status  \\\n",
       "5         NaN  ...       1  2013-Q1  2016   2.0  2016-Q2  13  closed   \n",
       "7          CA  ...       3  2012-Q3  9999   0.0      NaN  27    open   \n",
       "8          CA  ...       4  2013-Q4  9999   0.0      NaN  22    open   \n",
       "10        NaN  ...       4  2002-Q4  2018   2.0  2018-Q2  62  closed   \n",
       "14         CA  ...       2  2005-Q2  9999   0.0      NaN  56    open   \n",
       "\n",
       "         new_neighborhood neighborhood_size  size_rank  \n",
       "5             North Beach            Medium       5770  \n",
       "7        Presidio Heights            Medium       3259  \n",
       "8        Presidio Heights            Medium       3259  \n",
       "10  Bayview Hunters Point            Medium          0  \n",
       "14        South of Market             Dense        498  \n",
       "\n",
       "[5 rows x 38 columns]"
      ]
     },
     "execution_count": 51,
     "metadata": {},
     "output_type": "execute_result"
    }
   ],
   "source": [
    "df_recent.head()"
   ]
  },
  {
   "cell_type": "code",
   "execution_count": 52,
   "metadata": {},
   "outputs": [
    {
     "data": {
      "text/html": [
       "<div>\n",
       "<style scoped>\n",
       "    .dataframe tbody tr th:only-of-type {\n",
       "        vertical-align: middle;\n",
       "    }\n",
       "\n",
       "    .dataframe tbody tr th {\n",
       "        vertical-align: top;\n",
       "    }\n",
       "\n",
       "    .dataframe thead th {\n",
       "        text-align: right;\n",
       "    }\n",
       "</style>\n",
       "<table border=\"1\" class=\"dataframe\">\n",
       "  <thead>\n",
       "    <tr style=\"text-align: right;\">\n",
       "      <th></th>\n",
       "      <th>zip</th>\n",
       "      <th>certificate_number</th>\n",
       "      <th>city</th>\n",
       "      <th>dba_name</th>\n",
       "      <th>full_business_address</th>\n",
       "      <th>lic</th>\n",
       "      <th>lic_code_description</th>\n",
       "      <th>location</th>\n",
       "      <th>mail_city</th>\n",
       "      <th>mail_state</th>\n",
       "      <th>...</th>\n",
       "      <th>q_start</th>\n",
       "      <th>yq_start</th>\n",
       "      <th>y_end</th>\n",
       "      <th>q_end</th>\n",
       "      <th>yq_end</th>\n",
       "      <th>dur</th>\n",
       "      <th>status</th>\n",
       "      <th>new_neighborhood</th>\n",
       "      <th>neighborhood_size</th>\n",
       "      <th>size_rank</th>\n",
       "    </tr>\n",
       "  </thead>\n",
       "  <tbody>\n",
       "    <tr>\n",
       "      <th>194808</th>\n",
       "      <td>94108.0</td>\n",
       "      <td>1087955</td>\n",
       "      <td>San Francisco</td>\n",
       "      <td>Wenjing.com</td>\n",
       "      <td>1010 Stockton St</td>\n",
       "      <td>.</td>\n",
       "      <td>.</td>\n",
       "      <td>NaN</td>\n",
       "      <td>San Francisco</td>\n",
       "      <td>CA</td>\n",
       "      <td>...</td>\n",
       "      <td>2</td>\n",
       "      <td>2018-Q2</td>\n",
       "      <td>9999</td>\n",
       "      <td>0.0</td>\n",
       "      <td>NaN</td>\n",
       "      <td>4</td>\n",
       "      <td>open</td>\n",
       "      <td>Chinatown</td>\n",
       "      <td>Medium</td>\n",
       "      <td>0</td>\n",
       "    </tr>\n",
       "    <tr>\n",
       "      <th>194813</th>\n",
       "      <td>94109.0</td>\n",
       "      <td>1101492</td>\n",
       "      <td>San Francisco</td>\n",
       "      <td>Likewhereyoulive</td>\n",
       "      <td>891 Beach St</td>\n",
       "      <td>.</td>\n",
       "      <td>.</td>\n",
       "      <td>NaN</td>\n",
       "      <td>NaN</td>\n",
       "      <td>NaN</td>\n",
       "      <td>...</td>\n",
       "      <td>3</td>\n",
       "      <td>2014-Q3</td>\n",
       "      <td>2019</td>\n",
       "      <td>2.0</td>\n",
       "      <td>2019-Q2</td>\n",
       "      <td>21</td>\n",
       "      <td>closed</td>\n",
       "      <td>Aquatic Park / Ft. Mason</td>\n",
       "      <td>Sparse</td>\n",
       "      <td>0</td>\n",
       "    </tr>\n",
       "    <tr>\n",
       "      <th>194817</th>\n",
       "      <td>94112.0</td>\n",
       "      <td>1101534</td>\n",
       "      <td>San Francisco</td>\n",
       "      <td>Quad Coin Llc</td>\n",
       "      <td>1551 Ocean Ave</td>\n",
       "      <td>.</td>\n",
       "      <td>.</td>\n",
       "      <td>NaN</td>\n",
       "      <td>San Diego</td>\n",
       "      <td>CA</td>\n",
       "      <td>...</td>\n",
       "      <td>3</td>\n",
       "      <td>2018-Q3</td>\n",
       "      <td>9999</td>\n",
       "      <td>0.0</td>\n",
       "      <td>NaN</td>\n",
       "      <td>3</td>\n",
       "      <td>open</td>\n",
       "      <td>Ingleside</td>\n",
       "      <td>Sparse</td>\n",
       "      <td>5192</td>\n",
       "    </tr>\n",
       "    <tr>\n",
       "      <th>194824</th>\n",
       "      <td>94104.0</td>\n",
       "      <td>167146</td>\n",
       "      <td>San Francisco</td>\n",
       "      <td>Houlihan Lokey Financial Advisors Inc</td>\n",
       "      <td>1 Sansome St #1700</td>\n",
       "      <td>.</td>\n",
       "      <td>.</td>\n",
       "      <td>NaN</td>\n",
       "      <td>Los Angeles</td>\n",
       "      <td>CA</td>\n",
       "      <td>...</td>\n",
       "      <td>2</td>\n",
       "      <td>2010-Q2</td>\n",
       "      <td>9999</td>\n",
       "      <td>0.0</td>\n",
       "      <td>NaN</td>\n",
       "      <td>36</td>\n",
       "      <td>open</td>\n",
       "      <td>Financial District</td>\n",
       "      <td>Medium</td>\n",
       "      <td>4444</td>\n",
       "    </tr>\n",
       "    <tr>\n",
       "      <th>194825</th>\n",
       "      <td>94124.0</td>\n",
       "      <td>1101543</td>\n",
       "      <td>San Francisco</td>\n",
       "      <td>Global Team Corporation</td>\n",
       "      <td>2910 Griffith</td>\n",
       "      <td>.</td>\n",
       "      <td>.</td>\n",
       "      <td>NaN</td>\n",
       "      <td>San Francisco</td>\n",
       "      <td>CA</td>\n",
       "      <td>...</td>\n",
       "      <td>2</td>\n",
       "      <td>2006-Q2</td>\n",
       "      <td>9999</td>\n",
       "      <td>0.0</td>\n",
       "      <td>NaN</td>\n",
       "      <td>52</td>\n",
       "      <td>open</td>\n",
       "      <td>Bret Harte</td>\n",
       "      <td>Sparse</td>\n",
       "      <td>0</td>\n",
       "    </tr>\n",
       "  </tbody>\n",
       "</table>\n",
       "<p>5 rows × 38 columns</p>\n",
       "</div>"
      ],
      "text/plain": [
       "            zip  certificate_number           city  \\\n",
       "194808  94108.0             1087955  San Francisco   \n",
       "194813  94109.0             1101492  San Francisco   \n",
       "194817  94112.0             1101534  San Francisco   \n",
       "194824  94104.0              167146  San Francisco   \n",
       "194825  94124.0             1101543  San Francisco   \n",
       "\n",
       "                                     dba_name full_business_address lic  \\\n",
       "194808                            Wenjing.com      1010 Stockton St   .   \n",
       "194813                       Likewhereyoulive          891 Beach St   .   \n",
       "194817                          Quad Coin Llc        1551 Ocean Ave   .   \n",
       "194824  Houlihan Lokey Financial Advisors Inc    1 Sansome St #1700   .   \n",
       "194825                Global Team Corporation         2910 Griffith   .   \n",
       "\n",
       "       lic_code_description location      mail_city mail_state  ... q_start  \\\n",
       "194808                    .      NaN  San Francisco         CA  ...       2   \n",
       "194813                    .      NaN            NaN        NaN  ...       3   \n",
       "194817                    .      NaN      San Diego         CA  ...       3   \n",
       "194824                    .      NaN    Los Angeles         CA  ...       2   \n",
       "194825                    .      NaN  San Francisco         CA  ...       2   \n",
       "\n",
       "       yq_start y_end q_end   yq_end dur  status          new_neighborhood  \\\n",
       "194808  2018-Q2  9999   0.0      NaN   4    open                 Chinatown   \n",
       "194813  2014-Q3  2019   2.0  2019-Q2  21  closed  Aquatic Park / Ft. Mason   \n",
       "194817  2018-Q3  9999   0.0      NaN   3    open                 Ingleside   \n",
       "194824  2010-Q2  9999   0.0      NaN  36    open        Financial District   \n",
       "194825  2006-Q2  9999   0.0      NaN  52    open                Bret Harte   \n",
       "\n",
       "       neighborhood_size  size_rank  \n",
       "194808            Medium          0  \n",
       "194813            Sparse          0  \n",
       "194817            Sparse       5192  \n",
       "194824            Medium       4444  \n",
       "194825            Sparse          0  \n",
       "\n",
       "[5 rows x 38 columns]"
      ]
     },
     "execution_count": 52,
     "metadata": {},
     "output_type": "execute_result"
    }
   ],
   "source": [
    "df_recent.tail()"
   ]
  },
  {
   "cell_type": "code",
   "execution_count": 53,
   "metadata": {},
   "outputs": [],
   "source": [
    "def add_features_from_dict(dict, n, yq):\n",
    "    bo = dict[yq][n]['bus_opened'] \n",
    "    bc = dict[yq][n]['bus_closed'] \n",
    "    e = dict[yq][n]['evictions']\n",
    "    mp = dict[yq][n]['med_price_sqft']\n",
    "    #print(f'{bo}, {bc}, {e}, {mp}')\n",
    "    return bo, bc, e, mp"
   ]
  },
  {
   "cell_type": "code",
   "execution_count": 54,
   "metadata": {},
   "outputs": [],
   "source": [
    "df_recent[['bus_opened', 'bus_closed', 'evictions', 'med_pr_sqft']] = df_recent.apply(lambda row: \n",
    "                            add_features_from_dict(sf_neighborhood_changes_dict,\n",
    "                                                  row.new_neighborhood,\n",
    "                                                  row.yq_start),                                                          \n",
    "                                                  axis=1, result_type='expand')\n",
    "\n",
    "\n"
   ]
  },
  {
   "cell_type": "code",
   "execution_count": 55,
   "metadata": {},
   "outputs": [
    {
     "data": {
      "text/html": [
       "<div>\n",
       "<style scoped>\n",
       "    .dataframe tbody tr th:only-of-type {\n",
       "        vertical-align: middle;\n",
       "    }\n",
       "\n",
       "    .dataframe tbody tr th {\n",
       "        vertical-align: top;\n",
       "    }\n",
       "\n",
       "    .dataframe thead th {\n",
       "        text-align: right;\n",
       "    }\n",
       "</style>\n",
       "<table border=\"1\" class=\"dataframe\">\n",
       "  <thead>\n",
       "    <tr style=\"text-align: right;\">\n",
       "      <th></th>\n",
       "      <th>zip</th>\n",
       "      <th>certificate_number</th>\n",
       "      <th>city</th>\n",
       "      <th>dba_name</th>\n",
       "      <th>full_business_address</th>\n",
       "      <th>lic</th>\n",
       "      <th>lic_code_description</th>\n",
       "      <th>location</th>\n",
       "      <th>mail_city</th>\n",
       "      <th>mail_state</th>\n",
       "      <th>...</th>\n",
       "      <th>yq_end</th>\n",
       "      <th>dur</th>\n",
       "      <th>status</th>\n",
       "      <th>new_neighborhood</th>\n",
       "      <th>neighborhood_size</th>\n",
       "      <th>size_rank</th>\n",
       "      <th>bus_opened</th>\n",
       "      <th>bus_closed</th>\n",
       "      <th>evictions</th>\n",
       "      <th>med_pr_sqft</th>\n",
       "    </tr>\n",
       "  </thead>\n",
       "  <tbody>\n",
       "    <tr>\n",
       "      <th>5</th>\n",
       "      <td>94133.0</td>\n",
       "      <td>86</td>\n",
       "      <td>San Francisco</td>\n",
       "      <td>1601 Grant Parking</td>\n",
       "      <td>1601 Grant Ave</td>\n",
       "      <td>.</td>\n",
       "      <td>.</td>\n",
       "      <td>{'latitude': '37.801724', 'longitude': '-122.4...</td>\n",
       "      <td>NaN</td>\n",
       "      <td>NaN</td>\n",
       "      <td>...</td>\n",
       "      <td>2016-Q2</td>\n",
       "      <td>13</td>\n",
       "      <td>closed</td>\n",
       "      <td>North Beach</td>\n",
       "      <td>Medium</td>\n",
       "      <td>5770</td>\n",
       "      <td>89</td>\n",
       "      <td>15</td>\n",
       "      <td>18</td>\n",
       "      <td>755</td>\n",
       "    </tr>\n",
       "    <tr>\n",
       "      <th>7</th>\n",
       "      <td>94118.0</td>\n",
       "      <td>189</td>\n",
       "      <td>San Francisco</td>\n",
       "      <td>Abbey Carpet</td>\n",
       "      <td>2900 Geary Blvd</td>\n",
       "      <td>.</td>\n",
       "      <td>.</td>\n",
       "      <td>{'latitude': '37.782133', 'longitude': '-122.4...</td>\n",
       "      <td>San Francisco</td>\n",
       "      <td>CA</td>\n",
       "      <td>...</td>\n",
       "      <td>NaN</td>\n",
       "      <td>27</td>\n",
       "      <td>open</td>\n",
       "      <td>Presidio Heights</td>\n",
       "      <td>Medium</td>\n",
       "      <td>3259</td>\n",
       "      <td>36</td>\n",
       "      <td>6</td>\n",
       "      <td>4</td>\n",
       "      <td>970</td>\n",
       "    </tr>\n",
       "    <tr>\n",
       "      <th>8</th>\n",
       "      <td>94118.0</td>\n",
       "      <td>189</td>\n",
       "      <td>San Francisco</td>\n",
       "      <td>Abbey Carpet Of San Francisco</td>\n",
       "      <td>2900 Geary Blvd</td>\n",
       "      <td>.</td>\n",
       "      <td>.</td>\n",
       "      <td>{'latitude': '37.782133', 'longitude': '-122.4...</td>\n",
       "      <td>San Francisco</td>\n",
       "      <td>CA</td>\n",
       "      <td>...</td>\n",
       "      <td>NaN</td>\n",
       "      <td>22</td>\n",
       "      <td>open</td>\n",
       "      <td>Presidio Heights</td>\n",
       "      <td>Medium</td>\n",
       "      <td>3259</td>\n",
       "      <td>35</td>\n",
       "      <td>39</td>\n",
       "      <td>4</td>\n",
       "      <td>1088</td>\n",
       "    </tr>\n",
       "    <tr>\n",
       "      <th>10</th>\n",
       "      <td>94124.0</td>\n",
       "      <td>216</td>\n",
       "      <td>San Francisco</td>\n",
       "      <td>Abc Insurance</td>\n",
       "      <td>1727 Oakdale Ave</td>\n",
       "      <td>.</td>\n",
       "      <td>.</td>\n",
       "      <td>{'latitude': '37.736139', 'longitude': '-122.3...</td>\n",
       "      <td>NaN</td>\n",
       "      <td>NaN</td>\n",
       "      <td>...</td>\n",
       "      <td>2018-Q2</td>\n",
       "      <td>62</td>\n",
       "      <td>closed</td>\n",
       "      <td>Bayview Hunters Point</td>\n",
       "      <td>Medium</td>\n",
       "      <td>0</td>\n",
       "      <td>28</td>\n",
       "      <td>0</td>\n",
       "      <td>11</td>\n",
       "      <td>0</td>\n",
       "    </tr>\n",
       "    <tr>\n",
       "      <th>14</th>\n",
       "      <td>94107.0</td>\n",
       "      <td>244</td>\n",
       "      <td>San Francisco</td>\n",
       "      <td>Able Services</td>\n",
       "      <td>868 Folsom St</td>\n",
       "      <td>.</td>\n",
       "      <td>.</td>\n",
       "      <td>{'latitude': '37.780746', 'longitude': '-122.4...</td>\n",
       "      <td>San Francisco</td>\n",
       "      <td>CA</td>\n",
       "      <td>...</td>\n",
       "      <td>NaN</td>\n",
       "      <td>56</td>\n",
       "      <td>open</td>\n",
       "      <td>South of Market</td>\n",
       "      <td>Dense</td>\n",
       "      <td>498</td>\n",
       "      <td>45</td>\n",
       "      <td>2</td>\n",
       "      <td>24</td>\n",
       "      <td>668</td>\n",
       "    </tr>\n",
       "  </tbody>\n",
       "</table>\n",
       "<p>5 rows × 42 columns</p>\n",
       "</div>"
      ],
      "text/plain": [
       "        zip  certificate_number           city                       dba_name  \\\n",
       "5   94133.0                  86  San Francisco             1601 Grant Parking   \n",
       "7   94118.0                 189  San Francisco                   Abbey Carpet   \n",
       "8   94118.0                 189  San Francisco  Abbey Carpet Of San Francisco   \n",
       "10  94124.0                 216  San Francisco                  Abc Insurance   \n",
       "14  94107.0                 244  San Francisco                  Able Services   \n",
       "\n",
       "   full_business_address lic lic_code_description  \\\n",
       "5         1601 Grant Ave   .                    .   \n",
       "7        2900 Geary Blvd   .                    .   \n",
       "8        2900 Geary Blvd   .                    .   \n",
       "10      1727 Oakdale Ave   .                    .   \n",
       "14         868 Folsom St   .                    .   \n",
       "\n",
       "                                             location      mail_city  \\\n",
       "5   {'latitude': '37.801724', 'longitude': '-122.4...            NaN   \n",
       "7   {'latitude': '37.782133', 'longitude': '-122.4...  San Francisco   \n",
       "8   {'latitude': '37.782133', 'longitude': '-122.4...  San Francisco   \n",
       "10  {'latitude': '37.736139', 'longitude': '-122.3...            NaN   \n",
       "14  {'latitude': '37.780746', 'longitude': '-122.4...  San Francisco   \n",
       "\n",
       "   mail_state  ...   yq_end dur  status       new_neighborhood  \\\n",
       "5         NaN  ...  2016-Q2  13  closed            North Beach   \n",
       "7          CA  ...      NaN  27    open       Presidio Heights   \n",
       "8          CA  ...      NaN  22    open       Presidio Heights   \n",
       "10        NaN  ...  2018-Q2  62  closed  Bayview Hunters Point   \n",
       "14         CA  ...      NaN  56    open        South of Market   \n",
       "\n",
       "   neighborhood_size size_rank  bus_opened bus_closed evictions  med_pr_sqft  \n",
       "5             Medium      5770          89         15        18          755  \n",
       "7             Medium      3259          36          6         4          970  \n",
       "8             Medium      3259          35         39         4         1088  \n",
       "10            Medium         0          28          0        11            0  \n",
       "14             Dense       498          45          2        24          668  \n",
       "\n",
       "[5 rows x 42 columns]"
      ]
     },
     "execution_count": 55,
     "metadata": {},
     "output_type": "execute_result"
    }
   ],
   "source": [
    "df_recent.head()"
   ]
  },
  {
   "cell_type": "markdown",
   "metadata": {},
   "source": [
    "<h3>Save new dataset for modeling"
   ]
  },
  {
   "cell_type": "code",
   "execution_count": 56,
   "metadata": {},
   "outputs": [],
   "source": [
    "#save new dataset for modeling\n",
    "df_recent.to_csv('../tmp/recent_bus_with_features_20190515.csv', index=False)"
   ]
  },
  {
   "cell_type": "code",
   "execution_count": 57,
   "metadata": {},
   "outputs": [],
   "source": [
    "df_recent = pd.read_csv('../tmp/recent_bus_with_features_20190515.csv', low_memory = False)"
   ]
  },
  {
   "cell_type": "markdown",
   "metadata": {},
   "source": [
    "<h3>Export Dictionary"
   ]
  },
  {
   "cell_type": "code",
   "execution_count": 58,
   "metadata": {},
   "outputs": [],
   "source": [
    "#https://pythonspot.com/save-a-dictionary-to-a-file/\n",
    "import pickle\n",
    "#dict = {'Python' : '.py', 'C++' : '.cpp', 'Java' : '.java'}\n",
    "f = open('../data/sf_neighborhood_changes_dict.pkl','wb')\n",
    "pickle.dump(sf_neighborhood_changes_dict,f)\n",
    "f.close()"
   ]
  }
 ],
 "metadata": {
  "kernelspec": {
   "display_name": "Python [conda env:dsi2] *",
   "language": "python",
   "name": "conda-env-dsi2-py"
  },
  "language_info": {
   "codemirror_mode": {
    "name": "ipython",
    "version": 3
   },
   "file_extension": ".py",
   "mimetype": "text/x-python",
   "name": "python",
   "nbconvert_exporter": "python",
   "pygments_lexer": "ipython3",
   "version": "3.6.5"
  },
  "toc": {
   "base_numbering": 1,
   "nav_menu": {},
   "number_sections": true,
   "sideBar": true,
   "skip_h1_title": false,
   "title_cell": "Table of Contents",
   "title_sidebar": "Contents",
   "toc_cell": true,
   "toc_position": {},
   "toc_section_display": true,
   "toc_window_display": true
  }
 },
 "nbformat": 4,
 "nbformat_minor": 2
}
