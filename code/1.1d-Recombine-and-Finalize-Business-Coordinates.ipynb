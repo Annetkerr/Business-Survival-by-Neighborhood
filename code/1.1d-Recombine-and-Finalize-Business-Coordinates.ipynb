{
 "cells": [
  {
   "cell_type": "markdown",
   "metadata": {
    "toc": true
   },
   "source": [
    "<h1>Table of Contents<span class=\"tocSkip\"></span></h1>\n",
    "<div class=\"toc\"><ul class=\"toc-item\"><li><span><a href=\"#Overview\" data-toc-modified-id=\"Overview-1\"><span class=\"toc-item-num\">1&nbsp;&nbsp;</span>Overview</a></span></li></ul></div>"
   ]
  },
  {
   "cell_type": "markdown",
   "metadata": {},
   "source": [
    "<h3>Overview"
   ]
  },
  {
   "cell_type": "markdown",
   "metadata": {},
   "source": [
    "This is part of a series of notebooks used to impute missing location data and create ***lat*** (latitude) and ***lon*** (longitude) columns. The ***location*** column of the original dataset is a dictionary with geocordinates and business address. Many of these location entries are null. Where not null, the coordinates are pulled from the location column. Where no coordinates are present, the a geocoding api is used to convert the address fields are to lat and lon. \n",
    "\n",
    "Note book 1.1d **Recombine and Finalize** merges the results of the two tranlsation process back into a single dataset."
   ]
  },
  {
   "cell_type": "code",
   "execution_count": 2,
   "metadata": {},
   "outputs": [],
   "source": [
    "import pandas as pd\n",
    "import numpy as np\n",
    "import json\n",
    "import ast\n",
    "\n",
    "import os\n",
    "import sys\n",
    "import re\n",
    "\n",
    "module_path = os.path.abspath(os.path.join('./lib/'))\n",
    "\n",
    "if module_path not in sys.path:   \n",
    "    sys.path.append(module_path)\n",
    "\n",
    "import datetime\n",
    "from utilities import *\n",
    "\n",
    "import matplotlib.pyplot as plt\n",
    "import seaborn as sns\n",
    "\n",
    "\n",
    "import geopandas as gpd\n",
    "from geopandas.tools import geocode\n",
    "from shapely.geometry import Point\n",
    "\n",
    "import os\n",
    "import sys\n",
    "import re\n",
    "import time\n",
    "\n",
    "%matplotlib inline"
   ]
  },
  {
   "cell_type": "code",
   "execution_count": 3,
   "metadata": {},
   "outputs": [],
   "source": [
    "def reload_by_loc():\n",
    "    df = pd.read_csv('../tmp/converted_by_loc_then_address_final201920195843784591.csv', low_memory=False)\n",
    "    #convert dates\n",
    "    df['dba_start'] = pd.to_datetime(df['dba_start']) \n",
    "    df['dba_end'] = pd.to_datetime(df['dba_end'])\n",
    "    df['loc_start'] = pd.to_datetime(df['loc_start'])\n",
    "    df['loc_end'] = pd.to_datetime(df['loc_end'])\n",
    "    return df"
   ]
  },
  {
   "cell_type": "code",
   "execution_count": 4,
   "metadata": {},
   "outputs": [],
   "source": [
    "df_by_loc = reload_by_loc()"
   ]
  },
  {
   "cell_type": "code",
   "execution_count": 5,
   "metadata": {},
   "outputs": [
    {
     "data": {
      "text/plain": [
       "(143883, 27)"
      ]
     },
     "execution_count": 5,
     "metadata": {},
     "output_type": "execute_result"
    }
   ],
   "source": [
    "df_by_loc.shape"
   ]
  },
  {
   "cell_type": "code",
   "execution_count": 6,
   "metadata": {},
   "outputs": [
    {
     "data": {
      "text/plain": [
       "Index(['business_zip', 'certificate_number', 'city', 'dba_name',\n",
       "       'full_business_address', 'lic', 'lic_code_description', 'location',\n",
       "       'mail_city', 'mail_state', 'mail_zipcode', 'mailing_address_1',\n",
       "       'naic_code', 'naic_code_description',\n",
       "       'neighborhoods_analysis_boundaries', 'ownership_name', 'parking_tax',\n",
       "       'state', 'supervisor_district', 'transient_occupancy_tax', 'ttxid',\n",
       "       'dba_start', 'dba_end', 'loc_start', 'loc_end', 'lat', 'lon'],\n",
       "      dtype='object')"
      ]
     },
     "execution_count": 6,
     "metadata": {},
     "output_type": "execute_result"
    }
   ],
   "source": [
    "df_by_loc.columns"
   ]
  },
  {
   "cell_type": "code",
   "execution_count": 7,
   "metadata": {},
   "outputs": [],
   "source": [
    "def reload_by_addr():\n",
    "    df = pd.read_csv('../tmp/converted_by_address_interim201920195832725116.csv', low_memory=False)\n",
    "    #convert dates\n",
    "    df['dba_start'] = pd.to_datetime(df['dba_start']) \n",
    "    df['dba_end'] = pd.to_datetime(df['dba_end'])\n",
    "    df['loc_start'] = pd.to_datetime(df['loc_start'])\n",
    "    df['loc_end'] = pd.to_datetime(df['loc_end'])\n",
    "    return df"
   ]
  },
  {
   "cell_type": "code",
   "execution_count": 8,
   "metadata": {},
   "outputs": [],
   "source": [
    "df_by_addr = reload_by_addr()"
   ]
  },
  {
   "cell_type": "code",
   "execution_count": 9,
   "metadata": {},
   "outputs": [
    {
     "data": {
      "text/plain": [
       "(51317, 27)"
      ]
     },
     "execution_count": 9,
     "metadata": {},
     "output_type": "execute_result"
    }
   ],
   "source": [
    "df_by_addr.shape"
   ]
  },
  {
   "cell_type": "code",
   "execution_count": 128,
   "metadata": {},
   "outputs": [],
   "source": [
    "df = pd.concat([df_by_loc, df_by_addr])\n"
   ]
  },
  {
   "cell_type": "code",
   "execution_count": 129,
   "metadata": {},
   "outputs": [
    {
     "data": {
      "text/plain": [
       "(195200, 27)"
      ]
     },
     "execution_count": 129,
     "metadata": {},
     "output_type": "execute_result"
    }
   ],
   "source": [
    "df.shape"
   ]
  },
  {
   "cell_type": "code",
   "execution_count": 130,
   "metadata": {},
   "outputs": [],
   "source": [
    "ts = get_timestamp()\n",
    "df.to_csv(f'../tmp/recombined_interim{ts}.csv', index=False)"
   ]
  }
 ],
 "metadata": {
  "kernelspec": {
   "display_name": "Python [conda env:dsi2] *",
   "language": "python",
   "name": "conda-env-dsi2-py"
  },
  "language_info": {
   "codemirror_mode": {
    "name": "ipython",
    "version": 3
   },
   "file_extension": ".py",
   "mimetype": "text/x-python",
   "name": "python",
   "nbconvert_exporter": "python",
   "pygments_lexer": "ipython3",
   "version": "3.6.5"
  },
  "toc": {
   "base_numbering": 1,
   "nav_menu": {},
   "number_sections": true,
   "sideBar": true,
   "skip_h1_title": false,
   "title_cell": "Table of Contents",
   "title_sidebar": "Contents",
   "toc_cell": true,
   "toc_position": {},
   "toc_section_display": true,
   "toc_window_display": true
  }
 },
 "nbformat": 4,
 "nbformat_minor": 2
}
